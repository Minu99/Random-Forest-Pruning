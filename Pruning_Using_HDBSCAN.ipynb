{
 "cells": [
  {
   "cell_type": "markdown",
   "metadata": {},
   "source": [
    "**Import Statement**"
   ]
  },
  {
   "cell_type": "code",
   "execution_count": 1,
   "metadata": {},
   "outputs": [],
   "source": [
    "import pandas as pd\n",
    "import numpy as np\n",
    "from sklearn.manifold import TSNE\n",
    "import seaborn as sns\n",
    "import matplotlib.pyplot as plt\n",
    "import pydot\n",
    "from sklearn.preprocessing import StandardScaler\n",
    "from sklearn.model_selection import train_test_split\n",
    "from sklearn.ensemble import RandomForestClassifier\n",
    "from sklearn.metrics import accuracy_score\n",
    "from sklearn.model_selection import cross_val_score,KFold\n",
    "from sklearn.tree import export_graphviz\n",
    "from scipy import misc\n",
    "%matplotlib inline\n",
    "import hdbscan\n",
    "import copy\n",
    "from IPython.display import Markdown, display\n",
    "#For displaying titles\n",
    "def printmrdwn(string):\n",
    "    display(Markdown(string))"
   ]
  },
  {
   "cell_type": "markdown",
   "metadata": {},
   "source": [
    "**Accessing Datasets and Preprocessing**"
   ]
  },
  {
   "cell_type": "code",
   "execution_count": 2,
   "metadata": {},
   "outputs": [
    {
     "name": "stdout",
     "output_type": "stream",
     "text": [
      "       Sector_score      PARA_A     Score_A      Risk_A       PARA_B  \\\n",
      "count    776.000000  776.000000  776.000000  776.000000   776.000000   \n",
      "mean      20.184536    2.450194    0.351289    1.351029    10.799988   \n",
      "std       24.319017    5.678870    0.174055    3.440447    50.083624   \n",
      "min        1.850000    0.000000    0.200000    0.000000     0.000000   \n",
      "25%        2.370000    0.210000    0.200000    0.042000     0.000000   \n",
      "50%        3.890000    0.875000    0.200000    0.175000     0.405000   \n",
      "75%       55.570000    2.480000    0.600000    1.488000     4.160000   \n",
      "max       59.850000   85.000000    0.600000   51.000000  1264.630000   \n",
      "\n",
      "          Score_B      Risk_B        TOTAL     numbers   Score_B.1  \\\n",
      "count  776.000000  776.000000   776.000000  776.000000  776.000000   \n",
      "mean     0.313144    6.334008    13.218481    5.067655    0.223711   \n",
      "std      0.169804   30.072845    51.312829    0.264449    0.080352   \n",
      "min      0.200000    0.000000     0.000000    5.000000    0.200000   \n",
      "25%      0.200000    0.000000     0.537500    5.000000    0.200000   \n",
      "50%      0.200000    0.081000     1.370000    5.000000    0.200000   \n",
      "75%      0.400000    1.840500     7.707500    5.000000    0.200000   \n",
      "max      0.600000  758.778000  1268.910000    9.000000    0.600000   \n",
      "\n",
      "          ...          RiSk_E     History        Prob      Risk_F       Score  \\\n",
      "count     ...      776.000000  776.000000  776.000000  776.000000  776.000000   \n",
      "mean      ...        0.519072    0.104381    0.216753    0.053608    2.702577   \n",
      "std       ...        0.290312    0.531031    0.067987    0.305835    0.858923   \n",
      "min       ...        0.400000    0.000000    0.200000    0.000000    2.000000   \n",
      "25%       ...        0.400000    0.000000    0.200000    0.000000    2.000000   \n",
      "50%       ...        0.400000    0.000000    0.200000    0.000000    2.400000   \n",
      "75%       ...        0.400000    0.000000    0.200000    0.000000    3.250000   \n",
      "max       ...        2.400000    9.000000    0.600000    5.400000    5.200000   \n",
      "\n",
      "       Inherent_Risk  CONTROL_RISK  Detection_Risk  Audit_Risk        Risk  \n",
      "count     776.000000    776.000000           776.0  776.000000  776.000000  \n",
      "mean       17.680612      0.572680             0.5    7.168158    0.393041  \n",
      "std        54.740244      0.444581             0.0   38.667494    0.488741  \n",
      "min         1.400000      0.400000             0.5    0.280000    0.000000  \n",
      "25%         1.583500      0.400000             0.5    0.316700    0.000000  \n",
      "50%         2.214000      0.400000             0.5    0.555600    0.000000  \n",
      "75%        10.663500      0.400000             0.5    3.249900    1.000000  \n",
      "max       801.262000      5.800000             0.5  961.514400    1.000000  \n",
      "\n",
      "[8 rows x 26 columns]\n"
     ]
    },
    {
     "data": {
      "text/markdown": [
       "Data Distribution"
      ],
      "text/plain": [
       "<IPython.core.display.Markdown object>"
      ]
     },
     "metadata": {},
     "output_type": "display_data"
    },
    {
     "data": {
      "image/png": "[encoded data removed]",
      "text/plain": [
       "<Figure size 432x288 with 1 Axes>"
      ]
     },
     "metadata": {
      "needs_background": "light"
     },
     "output_type": "display_data"
    },
    {
     "data": {
      "text/markdown": [
       "Data Types"
      ],
      "text/plain": [
       "<IPython.core.display.Markdown object>"
      ]
     },
     "metadata": {},
     "output_type": "display_data"
    },
    {
     "name": "stdout",
     "output_type": "stream",
     "text": [
      "Sector_score      float64\n",
      "LOCATION_ID         int32\n",
      "PARA_A            float64\n",
      "Score_A           float64\n",
      "Risk_A            float64\n",
      "PARA_B            float64\n",
      "Score_B           float64\n",
      "Risk_B            float64\n",
      "TOTAL             float64\n",
      "numbers           float64\n",
      "Score_B.1         float64\n",
      "Risk_C            float64\n",
      "Money_Value       float64\n",
      "Score_MV          float64\n",
      "Risk_D            float64\n",
      "District_Loss       int64\n",
      "PROB              float64\n",
      "RiSk_E            float64\n",
      "History             int64\n",
      "Prob              float64\n",
      "Risk_F            float64\n",
      "Score             float64\n",
      "Inherent_Risk     float64\n",
      "CONTROL_RISK      float64\n",
      "Detection_Risk    float64\n",
      "Audit_Risk        float64\n",
      "Risk                int64\n",
      "dtype: object\n"
     ]
    },
    {
     "data": {
      "text/markdown": [
       "Audit Dataset"
      ],
      "text/plain": [
       "<IPython.core.display.Markdown object>"
      ]
     },
     "metadata": {},
     "output_type": "display_data"
    },
    {
     "name": "stdout",
     "output_type": "stream",
     "text": [
      "     Sector_score  LOCATION_ID  PARA_A  Score_A  Risk_A  PARA_B  Score_B  \\\n",
      "374          1.99           17    0.60      0.2   0.120    0.00      0.2   \n",
      "491          2.34           37    0.00      0.2   0.000    0.00      0.2   \n",
      "678         55.57           41    0.00      0.2   0.000    0.00      0.2   \n",
      "719         55.57           18    0.00      0.2   0.000    0.00      0.2   \n",
      "412          1.85            9   19.21      0.6  11.526    2.47      0.6   \n",
      "\n",
      "     Risk_B  TOTAL  numbers     ...      PROB  RiSk_E  History  Prob  Risk_F  \\\n",
      "374   0.000   0.60      5.0     ...       0.2     0.4        0   0.2     0.0   \n",
      "491   0.000   0.00      5.0     ...       0.2     0.4        0   0.2     0.0   \n",
      "678   0.000   0.00      5.0     ...       0.2     0.4        0   0.2     0.0   \n",
      "719   0.000   0.00      5.0     ...       0.2     0.4        0   0.2     0.0   \n",
      "412   1.482  21.68      5.0     ...       0.2     1.2        0   0.2     0.0   \n",
      "\n",
      "     Score  Inherent_Risk  CONTROL_RISK  Detection_Risk  Audit_Risk  \n",
      "374    2.0          1.520           0.4             0.5      0.3040  \n",
      "491    2.0          1.400           0.4             0.5      0.2800  \n",
      "678    2.0          1.400           0.4             0.5      0.2800  \n",
      "719    2.0          1.426           0.4             0.5      0.2852  \n",
      "412    4.0         15.208           1.2             0.5      9.1248  \n",
      "\n",
      "[5 rows x 26 columns]\n"
     ]
    },
    {
     "data": {
      "text/markdown": [
       "Risk Column"
      ],
      "text/plain": [
       "<IPython.core.display.Markdown object>"
      ]
     },
     "metadata": {},
     "output_type": "display_data"
    },
    {
     "name": "stdout",
     "output_type": "stream",
     "text": [
      "374    0\n",
      "491    0\n",
      "678    0\n",
      "719    0\n",
      "412    1\n",
      "Name: Risk, dtype: int64\n"
     ]
    }
   ],
   "source": [
    "import Preprocessed_DataSets as ds\n",
    "dataset_data, dataset_target=ds.get_auditData()\n",
    "feature_list=dataset_data.columns\n",
    "#Splitting the dataset into training and testing\n",
    "X_train, X_test, y_train, y_test = train_test_split(dataset_data, dataset_target, test_size=0.2, random_state=1)"
   ]
  },
  {
   "cell_type": "markdown",
   "metadata": {},
   "source": [
    "**Random Forest from sklearn**\n",
    "***************************************************************************"
   ]
  },
  {
   "cell_type": "code",
   "execution_count": 3,
   "metadata": {},
   "outputs": [
    {
     "data": {
      "text/plain": [
       "RandomForestClassifier(bootstrap=True, class_weight=None, criterion='gini',\n",
       "            max_depth=None, max_features='auto', max_leaf_nodes=None,\n",
       "            min_impurity_decrease=0.0, min_impurity_split=None,\n",
       "            min_samples_leaf=1, min_samples_split=2,\n",
       "            min_weight_fraction_leaf=0.0, n_estimators=500, n_jobs=None,\n",
       "            oob_score=False, random_state=1, verbose=0, warm_start=False)"
      ]
     },
     "execution_count": 3,
     "metadata": {},
     "output_type": "execute_result"
    }
   ],
   "source": [
    "#Creating random forest object and training the forest with the training data\n",
    "parent_RF=RandomForestClassifier(n_estimators=500,random_state=1)\n",
    "parent_RF.fit(X_train,y_train)\n",
    "#Decision trees in the random forest\n",
    "#print(objRandom.estimators_)"
   ]
  },
  {
   "cell_type": "markdown",
   "metadata": {},
   "source": [
    "**Visualize a decision tree in random forest**"
   ]
  },
  {
   "cell_type": "code",
   "execution_count": 4,
   "metadata": {},
   "outputs": [
    {
     "name": "stderr",
     "output_type": "stream",
     "text": [
      "C:\\Users\\Petrofac\\Anaconda3\\lib\\site-packages\\ipykernel_launcher.py:9: DeprecationWarning: `imread` is deprecated!\n",
      "`imread` is deprecated in SciPy 1.0.0, and will be removed in 1.2.0.\n",
      "Use ``imageio.imread`` instead.\n",
      "  if __name__ == '__main__':\n"
     ]
    },
    {
     "data": {
      "text/plain": [
       "<matplotlib.image.AxesImage at 0x21f1610d4e0>"
      ]
     },
     "execution_count": 4,
     "metadata": {},
     "output_type": "execute_result"
    },
    {
     "data": {
      "image/png": "[encoded data removed]",
      "text/plain": [
       "<Figure size 432x288 with 1 Axes>"
      ]
     },
     "metadata": {
      "needs_background": "light"
     },
     "output_type": "display_data"
    }
   ],
   "source": [
    "# Acessing a tree from random forest classifier\n",
    "randomForestTree = parent_RF.estimators_[0]\n",
    "# Export the image to a dot file\n",
    "export_graphviz(randomForestTree, out_file = 'tree.dot', feature_names = feature_list, filled=True, rounded = True, precision = 1)\n",
    "# Use dot file to create a graph\n",
    "(graph, ) = pydot.graph_from_dot_file('tree.dot')\n",
    "# Write graph to a png file\n",
    "graph.write_png('tree.png');\n",
    "file = misc.imread('tree.png')\n",
    "plt.imshow(file)"
   ]
  },
  {
   "cell_type": "markdown",
   "metadata": {},
   "source": [
    "**To Predict using each eastimator in random forest & Calculate weigth of each estimator in random forest**"
   ]
  },
  {
   "cell_type": "code",
   "execution_count": 5,
   "metadata": {},
   "outputs": [
    {
     "name": "stdout",
     "output_type": "stream",
     "text": [
      "            0  inst1  inst2  inst3  inst4  inst5  inst6  inst7  inst8  inst9  \\\n",
      "0      DTree0      0      0      0      1      0      1      0      0      0   \n",
      "1      DTree1      0      0      0      1      0      1      0      0      0   \n",
      "2      DTree2      0      0      0      1      0      1      0      0      0   \n",
      "3      DTree3      0      0      0      1      0      1      0      0      0   \n",
      "4      DTree4      0      0      0      1      0      1      0      0      0   \n",
      "5      DTree5      0      0      0      1      0      1      0      0      0   \n",
      "6      DTree6      0      0      0      1      0      1      0      0      0   \n",
      "7      DTree7      0      0      0      1      0      1      0      0      0   \n",
      "8      DTree8      0      0      0      1      0      1      0      0      0   \n",
      "9      DTree9      0      0      0      1      0      1      0      0      0   \n",
      "10    DTree10      0      0      0      1      0      1      0      0      0   \n",
      "11    DTree11      0      0      0      1      0      1      0      0      0   \n",
      "12    DTree12      0      0      0      1      0      1      0      0      0   \n",
      "13    DTree13      0      0      0      1      0      1      0      0      0   \n",
      "14    DTree14      0      0      0      1      0      1      0      0      0   \n",
      "15    DTree15      0      0      0      1      0      1      0      0      0   \n",
      "16    DTree16      0      0      0      1      0      1      0      0      0   \n",
      "17    DTree17      0      0      0      1      0      1      0      0      0   \n",
      "18    DTree18      0      0      0      1      0      1      0      0      0   \n",
      "19    DTree19      0      0      0      1      0      1      0      0      0   \n",
      "20    DTree20      0      0      0      1      0      1      0      0      0   \n",
      "21    DTree21      0      0      0      1      0      1      0      0      0   \n",
      "22    DTree22      0      0      0      1      0      1      0      0      0   \n",
      "23    DTree23      0      0      0      1      0      1      0      0      0   \n",
      "24    DTree24      0      0      0      1      0      1      0      0      0   \n",
      "25    DTree25      0      0      0      1      0      1      0      0      0   \n",
      "26    DTree26      0      0      0      1      0      1      0      0      0   \n",
      "27    DTree27      0      0      0      1      0      1      0      0      0   \n",
      "28    DTree28      0      0      0      1      0      1      0      0      0   \n",
      "29    DTree29      0      0      0      1      0      1      0      0      0   \n",
      "..        ...    ...    ...    ...    ...    ...    ...    ...    ...    ...   \n",
      "470  DTree470      0      0      0      1      0      1      0      0      0   \n",
      "471  DTree471      0      0      0      1      0      1      0      0      0   \n",
      "472  DTree472      0      0      0      1      0      1      0      0      0   \n",
      "473  DTree473      0      0      0      1      0      1      0      0      0   \n",
      "474  DTree474      0      0      0      1      0      1      0      0      0   \n",
      "475  DTree475      0      0      0      1      0      1      0      0      0   \n",
      "476  DTree476      0      0      0      1      0      1      0      0      0   \n",
      "477  DTree477      0      0      0      1      0      1      0      0      0   \n",
      "478  DTree478      0      0      0      1      0      1      0      0      0   \n",
      "479  DTree479      0      0      0      1      0      1      0      0      0   \n",
      "480  DTree480      0      0      0      1      0      1      0      0      0   \n",
      "481  DTree481      0      0      0      1      0      1      0      0      0   \n",
      "482  DTree482      0      0      0      1      0      1      0      0      0   \n",
      "483  DTree483      0      0      0      1      0      1      0      0      0   \n",
      "484  DTree484      0      0      0      1      0      1      0      0      0   \n",
      "485  DTree485      0      0      0      1      0      1      0      0      0   \n",
      "486  DTree486      0      0      0      1      0      1      0      0      0   \n",
      "487  DTree487      0      0      0      1      0      1      0      0      0   \n",
      "488  DTree488      0      0      0      1      0      1      0      0      0   \n",
      "489  DTree489      0      0      0      1      0      1      0      0      0   \n",
      "490  DTree490      0      0      0      1      0      1      0      0      0   \n",
      "491  DTree491      0      0      0      1      0      1      0      0      0   \n",
      "492  DTree492      0      0      0      1      0      1      0      0      0   \n",
      "493  DTree493      0      0      0      1      0      1      0      0      0   \n",
      "494  DTree494      0      0      0      1      0      1      0      0      0   \n",
      "495  DTree495      0      0      0      1      0      1      0      0      0   \n",
      "496  DTree496      0      0      0      1      0      1      0      0      0   \n",
      "497  DTree497      0      0      0      1      0      1      0      0      0   \n",
      "498  DTree498      0      0      0      1      0      1      0      0      0   \n",
      "499  DTree499      0      0      0      1      0      1      0      0      0   \n",
      "\n",
      "       ...     inst612  inst613  inst614  inst615  inst616  inst617  inst618  \\\n",
      "0      ...           1        1        0        1        1        1        0   \n",
      "1      ...           1        1        0        1        1        1        0   \n",
      "2      ...           1        1        0        1        1        1        0   \n",
      "3      ...           1        1        0        1        1        1        0   \n",
      "4      ...           1        1        0        1        1        1        0   \n",
      "5      ...           1        1        0        1        1        1        0   \n",
      "6      ...           1        1        0        1        1        1        0   \n",
      "7      ...           1        1        0        1        1        1        0   \n",
      "8      ...           1        1        0        1        1        1        0   \n",
      "9      ...           1        1        0        1        1        1        0   \n",
      "10     ...           1        1        0        1        1        1        0   \n",
      "11     ...           1        1        0        1        1        1        0   \n",
      "12     ...           1        1        0        1        1        1        0   \n",
      "13     ...           1        1        0        1        1        1        0   \n",
      "14     ...           1        1        0        1        1        1        0   \n",
      "15     ...           1        1        0        1        1        1        0   \n",
      "16     ...           1        1        0        1        1        1        0   \n",
      "17     ...           1        1        0        1        1        1        0   \n",
      "18     ...           1        1        0        1        1        1        0   \n",
      "19     ...           1        1        0        1        1        1        0   \n",
      "20     ...           1        1        0        1        1        1        0   \n",
      "21     ...           1        1        0        1        1        1        0   \n",
      "22     ...           1        1        0        1        1        1        0   \n",
      "23     ...           1        1        0        1        1        1        0   \n",
      "24     ...           1        1        0        1        1        1        0   \n",
      "25     ...           1        1        0        1        1        1        0   \n",
      "26     ...           1        1        0        1        1        1        0   \n",
      "27     ...           1        1        0        1        1        1        0   \n",
      "28     ...           1        1        0        1        1        1        0   \n",
      "29     ...           1        1        0        1        1        1        0   \n",
      "..     ...         ...      ...      ...      ...      ...      ...      ...   \n",
      "470    ...           1        1        0        1        1        1        0   \n",
      "471    ...           1        1        0        1        1        1        0   \n",
      "472    ...           1        1        0        1        1        1        0   \n",
      "473    ...           1        1        0        1        1        1        0   \n",
      "474    ...           1        1        0        1        1        1        0   \n",
      "475    ...           1        1        0        1        1        1        0   \n",
      "476    ...           1        1        0        1        1        1        0   \n",
      "477    ...           1        1        0        1        1        1        0   \n",
      "478    ...           1        1        0        1        1        1        0   \n",
      "479    ...           1        1        0        1        1        1        0   \n",
      "480    ...           1        1        0        1        1        1        0   \n",
      "481    ...           1        1        0        1        1        1        0   \n",
      "482    ...           1        1        0        1        1        1        0   \n",
      "483    ...           1        1        0        1        1        1        0   \n",
      "484    ...           1        1        0        1        1        1        0   \n",
      "485    ...           1        1        0        1        1        1        0   \n",
      "486    ...           1        1        0        1        1        1        0   \n",
      "487    ...           1        1        0        1        1        1        0   \n",
      "488    ...           1        1        0        1        1        1        0   \n",
      "489    ...           1        1        0        1        1        1        0   \n",
      "490    ...           1        1        0        1        1        1        0   \n",
      "491    ...           1        1        0        1        1        1        0   \n",
      "492    ...           1        1        0        1        1        1        0   \n",
      "493    ...           1        1        0        1        1        1        0   \n",
      "494    ...           1        1        0        1        1        1        0   \n",
      "495    ...           1        1        0        1        1        1        0   \n",
      "496    ...           1        1        0        1        1        1        0   \n",
      "497    ...           1        1        0        1        1        1        0   \n",
      "498    ...           1        1        0        1        1        1        0   \n",
      "499    ...           1        1        0        1        1        1        0   \n",
      "\n",
      "     inst619  inst620    Weight  \n",
      "0          1        0  0.990323  \n",
      "1          1        0  1.000000  \n",
      "2          1        0  1.000000  \n",
      "3          1        0  0.998387  \n",
      "4          1        0  0.996774  \n",
      "5          1        0  0.998387  \n",
      "6          1        0  0.998387  \n",
      "7          1        0  0.998387  \n",
      "8          1        0  0.996774  \n",
      "9          1        0  1.000000  \n",
      "10         1        0  0.998387  \n",
      "11         1        0  1.000000  \n",
      "12         1        0  0.998387  \n",
      "13         1        0  0.993548  \n",
      "14         1        0  0.995161  \n",
      "15         1        0  0.993548  \n",
      "16         1        0  0.995161  \n",
      "17         1        0  0.996774  \n",
      "18         1        0  0.996774  \n",
      "19         1        0  0.995161  \n",
      "20         1        0  0.993548  \n",
      "21         1        0  0.995161  \n",
      "22         1        0  1.000000  \n",
      "23         1        0  0.990323  \n",
      "24         1        0  0.987097  \n",
      "25         1        0  0.991935  \n",
      "26         1        0  1.000000  \n",
      "27         1        0  0.998387  \n",
      "28         1        0  0.998387  \n",
      "29         1        0  0.996774  \n",
      "..       ...      ...       ...  \n",
      "470        1        0  0.998387  \n",
      "471        1        0  1.000000  \n",
      "472        1        0  0.996774  \n",
      "473        1        0  0.996774  \n",
      "474        1        0  0.996774  \n",
      "475        1        0  0.993548  \n",
      "476        1        0  0.996774  \n",
      "477        1        0  0.993548  \n",
      "478        1        0  0.991935  \n",
      "479        1        0  0.995161  \n",
      "480        1        0  0.998387  \n",
      "481        1        0  1.000000  \n",
      "482        1        0  1.000000  \n",
      "483        1        0  0.998387  \n",
      "484        1        0  0.998387  \n",
      "485        1        0  1.000000  \n",
      "486        1        0  0.985484  \n",
      "487        1        0  1.000000  \n",
      "488        1        0  1.000000  \n",
      "489        1        0  1.000000  \n",
      "490        1        0  0.998387  \n",
      "491        1        0  0.988710  \n",
      "492        1        0  0.996774  \n",
      "493        1        0  0.990323  \n",
      "494        1        0  1.000000  \n",
      "495        1        0  0.998387  \n",
      "496        1        0  0.998387  \n",
      "497        1        0  0.993548  \n",
      "498        1        0  0.993548  \n",
      "499        1        0  0.998387  \n",
      "\n",
      "[500 rows x 622 columns]\n",
      "500 622\n"
     ]
    }
   ],
   "source": [
    "#To create column title for each instance in dataframe\n",
    "listColumn=[]\n",
    "instanceNumbr ='inst'\n",
    "for inst in range(len(X_train)):\n",
    "    columnHeader=instanceNumbr+str(inst+1)\n",
    "    listColumn.append(columnHeader)\n",
    "\n",
    "#To append row title corresponding to each tree\n",
    "listlabel=[]\n",
    "decisionTree ='DTree'\n",
    "for header in range(parent_RF.n_estimators):\n",
    "    rowHeader=decisionTree+str(header)\n",
    "    listlabel.append(rowHeader)\n",
    "\n",
    "#To predict all the instance  in training dataset and to calculate weigth of each estimator. \n",
    "#Weigth for each estimator is calculated by dividing number of correct prediction by total number of instances\n",
    "tree_weight=[]\n",
    "listPredict=[]\n",
    "for estimators in parent_RF.estimators_:\n",
    "    estimators.classes_=parent_RF.classes_\n",
    "    predictions=estimators.predict(X_train)\n",
    "    #To store the weight of each tree\n",
    "#     misclassified_samples = X_train[y_train != predictions]\n",
    "#     incorrect_prediction,N=misclassified_samples.shape\n",
    "#     print(incorrect_prediction)\n",
    "    trueclassified_samples = X_train[y_train == predictions]\n",
    "#     print(trueclassified_samples.shape[0])\n",
    "#     print(X_train.shape)\n",
    "    weight=(trueclassified_samples.shape[0])/(X_train.shape[0])\n",
    "#     print(weight)\n",
    "    tree_weight.append(weight)\n",
    "    listPredict.append(predictions)\n",
    "#     print(predictions)\n",
    "    #print(estimators)\n",
    "    \n",
    "#print(listColumn)\n",
    "#print(listlabel)\n",
    "#print(listPredict)\n",
    "#tListPredict=np.transpose(listPredict)\n",
    "#print(tListPredict)\n",
    "tree_weight_df=pd.DataFrame(tree_weight,columns=['Weight'])\n",
    "dataset = pd.DataFrame(listPredict,columns=listColumn)\n",
    "df2 = pd.DataFrame(listlabel)\n",
    "FinalDataSet=pd.concat([df2,dataset,tree_weight_df],axis=1)\n",
    "# tc = np.transpose(clusterSet)\n",
    "# pd.concat([df2,df1],axis=1)\n",
    "# print(tc.head())\n",
    "# tc1= tc.drop(0, axis = 1)\n",
    "# print(clusterSet)\n",
    "print(FinalDataSet)\n",
    "N,M=FinalDataSet.shape\n",
    "print(N,M)"
   ]
  },
  {
   "cell_type": "markdown",
   "metadata": {},
   "source": [
    "**Distance Claculation -Simple mismatch compuation**\n",
    "        "
   ]
  },
  {
   "cell_type": "code",
   "execution_count": 6,
   "metadata": {},
   "outputs": [],
   "source": [
    "##Method to calculate simple mismatch distance between two trees (This calculation is done by comparing the predicted value of each decision tree)\n",
    "def get_distance(tree_One,tree_Two):\n",
    "    diff=0\n",
    "    dimension=len(tree_One)\n",
    "#     print(tree_One)\n",
    "#     print(tree_Two)\n",
    "    for inst in range(dimension):\n",
    "        if(tree_One[inst]==tree_Two[inst]):\n",
    "            diff=diff\n",
    "        else:\n",
    "            diff=diff+1  \n",
    "            \n",
    "    diff=int(round(diff))        \n",
    "    return diff"
   ]
  },
  {
   "cell_type": "markdown",
   "metadata": {},
   "source": [
    "**Method to calculate mismatch matrix without cosidering weigth of each estimator**"
   ]
  },
  {
   "cell_type": "code",
   "execution_count": 7,
   "metadata": {},
   "outputs": [],
   "source": [
    "def simplemismatch_matrix(listPredict,estimator_no):\n",
    "#     tree_nesteList=[[] for i in range(10)]\n",
    "    diversity_matrix=np.zeros((estimator_no,estimator_no))\n",
    "    # print(tree_nesteList)\n",
    "    # print(diversity_matrix)\n",
    "    for i in range(estimator_no):\n",
    "        for j in range(estimator_no):\n",
    "            distance=get_distance(listPredict[i],listPredict[j])\n",
    "            diversity_matrix[i][j]=distance*distance\n",
    "    #         print(diversity_matrix)\n",
    "#     print(diversity_matrix)\n",
    "#     diversity_matrix.shape\n",
    "    return(diversity_matrix)"
   ]
  },
  {
   "cell_type": "markdown",
   "metadata": {},
   "source": [
    "**Method to calculate weigthed mismatch matrix**"
   ]
  },
  {
   "cell_type": "code",
   "execution_count": 8,
   "metadata": {},
   "outputs": [],
   "source": [
    "def weigthedmismatch_matrix(listPredict,estimator_no):\n",
    "    # tree_nesteList=[[] for i in range(10)]\n",
    "    diversity_matrix=np.zeros((estimator_no,estimator_no))\n",
    "    # print(tree_nesteList)\n",
    "    # print(diversity_matrix)\n",
    "    for i in range(estimator_no):\n",
    "        for j in range(estimator_no):\n",
    "            distance_tree=get_distance(listPredict[i],listPredict[j])\n",
    "\n",
    "            weigth_diff=abs(tree_weight[i]-tree_weight[j])\n",
    "#             print(weigth_diff)\n",
    "            diversity_matrix[i][j]=(distance_tree*weigth_diff)*(distance_tree*weigth_diff)\n",
    "            print((distance_tree*weigth_diff)*(distance_tree*weigth_diff))\n",
    "\n",
    "    #         print(diversity_matrix)\n",
    "#     print(diversity_matrix)\n",
    "    diversity_matrix.shape\n",
    "    return(diversity_matrix)"
   ]
  },
  {
   "cell_type": "markdown",
   "metadata": {},
   "source": [
    "**Clustering Algorithm Implementation**\n",
    "*********************************************************"
   ]
  },
  {
   "cell_type": "markdown",
   "metadata": {},
   "source": [
    "**Precomputed matrix for clustering**"
   ]
  },
  {
   "cell_type": "code",
   "execution_count": null,
   "metadata": {},
   "outputs": [],
   "source": [
    "#Simple mismatch matrix for clustering\n",
    "simpleprecomputed_matrix=simplemismatch_matrix(listPredict,N)\n",
    "print(simpleprecomputed_matrix)\n",
    "#Weigthed mismatch matrix for clustering\n",
    "weigthedprecomputed_matrix=weigthedmismatch_matrix(listPredict,N)\n",
    "print(weigthedprecomputed_matrix)"
   ]
  },
  {
   "cell_type": "markdown",
   "metadata": {},
   "source": [
    "**To analyse the matrix and find the mean, median and quartiles of the ,atrix**"
   ]
  },
  {
   "cell_type": "code",
   "execution_count": null,
   "metadata": {},
   "outputs": [],
   "source": [
    "#To analyse the data of  both the precomputed matrix\n",
    "simpleprecomputed_matrixdf=pd.DataFrame(simpleprecomputed_matrix)\n",
    "print(simpleprecomputed_matrixdf.describe())\n",
    "weigthedprecomputed_matrixdf=pd.DataFrame(weigthedprecomputed_matrix)\n",
    "print(weigthedprecomputed_matrixdf.describe())"
   ]
  },
  {
   "cell_type": "markdown",
   "metadata": {},
   "source": [
    "**Applying HDBSCAN**"
   ]
  },
  {
   "cell_type": "code",
   "execution_count": null,
   "metadata": {},
   "outputs": [],
   "source": [
    "#Clustering object for simple mismatch matrix\n",
    "db_simple = hdbscan.HDBSCAN( metric='precomputed')\n",
    "#Clustering object for weigthed mismatch matrix\n",
    "db_weigthed = hdbscan.HDBSCAN( metric='precomputed')"
   ]
  },
  {
   "cell_type": "code",
   "execution_count": null,
   "metadata": {},
   "outputs": [],
   "source": [
    "#Fit the cluster object with simple mismatch matrix\n",
    "db_simple.fit(simpleprecomputed_matrix)\n",
    "#Fit the cluster object with weigthed mismatch matrix\n",
    "db_weigthed.fit(weigthedprecomputed_matrix)"
   ]
  },
  {
   "cell_type": "code",
   "execution_count": null,
   "metadata": {},
   "outputs": [],
   "source": [
    "labels_simple = db_simple.labels_\n",
    "prob=db_simple.probabilities_\n",
    "labels_weigthed = db_weigthed.labels_"
   ]
  },
  {
   "cell_type": "code",
   "execution_count": null,
   "metadata": {},
   "outputs": [],
   "source": [
    "db_simple.condensed_tree_.plot()"
   ]
  },
  {
   "cell_type": "code",
   "execution_count": null,
   "metadata": {},
   "outputs": [],
   "source": [
    "db_simple.single_linkage_tree_.plot()"
   ]
  },
  {
   "cell_type": "code",
   "execution_count": null,
   "metadata": {},
   "outputs": [],
   "source": [
    "labels_simple"
   ]
  },
  {
   "cell_type": "code",
   "execution_count": null,
   "metadata": {},
   "outputs": [],
   "source": [
    "db_simple.probabilities_"
   ]
  },
  {
   "cell_type": "code",
   "execution_count": null,
   "metadata": {},
   "outputs": [],
   "source": [
    "db_weigthed.condensed_tree_.plot(select_clusters=True,selection_palette=sns.color_palette('deep', 100))"
   ]
  },
  {
   "cell_type": "code",
   "execution_count": null,
   "metadata": {},
   "outputs": [],
   "source": [
    "db_weigthed.single_linkage_tree_.plot()"
   ]
  },
  {
   "cell_type": "code",
   "execution_count": null,
   "metadata": {},
   "outputs": [],
   "source": [
    "labels_weigthed"
   ]
  },
  {
   "cell_type": "code",
   "execution_count": null,
   "metadata": {},
   "outputs": [],
   "source": [
    "db_weigthed.probabilities_"
   ]
  },
  {
   "cell_type": "code",
   "execution_count": null,
   "metadata": {},
   "outputs": [],
   "source": [
    "simpleprecomputed_matrixdf['Clusters']=labels_simple\n",
    "weigthedprecomputed_matrixdf['Clusters']=labels_weigthed\n",
    "print(simpleprecomputed_matrixdf)\n",
    "print(weigthedprecomputed_matrixdf)"
   ]
  },
  {
   "cell_type": "code",
   "execution_count": null,
   "metadata": {},
   "outputs": [],
   "source": [
    "def plot_data(Dataset_name,X_data,y_target):\n",
    "    model =TSNE(n_components=2,random_state=0,perplexity=10,n_iter=1000)\n",
    "    tsne_data=model.fit_transform(X_data)\n",
    "    tsne_datastack=np.vstack((tsne_data.T,y_target)).T\n",
    "    tsne_df=pd.DataFrame(data=tsne_datastack,columns=(\"Dim_1\",\"Dim_2\",\"Cluster\"))\n",
    "    sn=sns.FacetGrid(tsne_df,hue=\"Cluster\",size=7)\n",
    "    sn.map(plt.scatter,'Dim_1','Dim_2',alpha=1, \n",
    "          edgecolor='white', linewidth=0.25, s=100).add_legend(title=\"Cluster\")\n",
    "    plt.axis('off')\n",
    "    plt.title(Dataset_name)\n",
    "    plt.show()"
   ]
  },
  {
   "cell_type": "code",
   "execution_count": null,
   "metadata": {},
   "outputs": [],
   "source": [
    "plot_data(\"Clusters Obtained using simple mismatch distance\",simpleprecomputed_matrix,labels_simple)\n",
    "plot_data(\"Clusters Obtained using weigthed distance\",weigthedprecomputed_matrix,labels_weigthed)"
   ]
  },
  {
   "cell_type": "code",
   "execution_count": null,
   "metadata": {},
   "outputs": [],
   "source": [
    "print(weigthedprecomputed_matrixdf.head())\n",
    "weigthedprecomputed_matrixdf[weigthedprecomputed_matrixdf['Clusters']==8.0]"
   ]
  },
  {
   "cell_type": "code",
   "execution_count": null,
   "metadata": {},
   "outputs": [],
   "source": []
  },
  {
   "cell_type": "code",
   "execution_count": null,
   "metadata": {},
   "outputs": [],
   "source": []
  },
  {
   "cell_type": "code",
   "execution_count": null,
   "metadata": {},
   "outputs": [],
   "source": []
  },
  {
   "cell_type": "code",
   "execution_count": null,
   "metadata": {},
   "outputs": [],
   "source": []
  }
 ],
 "metadata": {
  "kernelspec": {
   "display_name": "Python 3",
   "language": "python",
   "name": "python3"
  },
  "language_info": {
   "codemirror_mode": {
    "name": "ipython",
    "version": 3
   },
   "file_extension": ".py",
   "mimetype": "text/x-python",
   "name": "python",
   "nbconvert_exporter": "python",
   "pygments_lexer": "ipython3",
   "version": "3.7.1"
  }
 },
 "nbformat": 4,
 "nbformat_minor": 2
}
