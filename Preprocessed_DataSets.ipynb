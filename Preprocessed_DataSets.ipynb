{
 "cells": [
  {
   "cell_type": "markdown",
   "metadata": {},
   "source": [
    "## Dataset and Preprocessing"
   ]
  },
  {
   "cell_type": "markdown",
   "metadata": {},
   "source": [
    "#### Import Statements"
   ]
  },
  {
   "cell_type": "code",
   "execution_count": 2,
   "metadata": {},
   "outputs": [],
   "source": [
    "import pandas as pd\n",
    "from sklearn.preprocessing import LabelEncoder"
   ]
  },
  {
   "cell_type": "markdown",
   "metadata": {},
   "source": [
    "###### Dataset 1-"
   ]
  },
  {
   "cell_type": "code",
   "execution_count": 51,
   "metadata": {},
   "outputs": [],
   "source": [
    "#Titanic Dataset\n",
    "#https://www.kaggle.com/c/titanic/data\n",
    "def get_titanic_data():\n",
    "    df_titanic=pd.read_csv('titanic.csv',)\n",
    "    #Remove unnecessary columns (body= Body Indentification number, Name= Name)\n",
    "    df_titanic.drop(['name','body'],1,inplace=True)\n",
    "    #Fill all the na  \n",
    "    df_titanic.cabin.fillna('unknown',inplace=True)\n",
    "    df_titanic.age.fillna(df_titanic['age'].mean(),inplace=True)\n",
    "    df_titanic.fillna(0,inplace=True)\n",
    "    #Covert nonnumeric value into numeric\n",
    "    df_titanic['sex'] = LabelEncoder().fit_transform(df_titanic['sex'])\n",
    "    df_titanic['cabin'] = LabelEncoder().fit_transform(df_titanic['cabin'].astype(str))\n",
    "    df_titanic['embarked'] = LabelEncoder().fit_transform(df_titanic['embarked'].astype(str))\n",
    "    df_titanic['home.dest'] = LabelEncoder().fit_transform(df_titanic['home.dest'].astype(str))\n",
    "    df_titanic['ticket'] = LabelEncoder().fit_transform(df_titanic['ticket'])\n",
    "    df_titanic['boat'] = LabelEncoder().fit_transform(df_titanic['boat'].astype(str))\n",
    "    # df_titanic.head()\n",
    "    # df_titanic.dtypes\n",
    "    # print(df_titanic.isnull().sum())\n",
    "    y = df_titanic['pclass']\n",
    "    X = df_titanic.drop(\"pclass\", axis = 1)\n",
    "    return X,y"
   ]
  },
  {
   "cell_type": "markdown",
   "metadata": {},
   "source": [
    "###### Dataset 2-"
   ]
  },
  {
   "cell_type": "code",
   "execution_count": 52,
   "metadata": {},
   "outputs": [],
   "source": [
    "#Breast Cancer Dataset\n",
    "#http://archive.ics.uci.edu/ml/machine-learning-databases/breast-cancer-wisconsin/\n",
    "def get_breastCancer_dataset():\n",
    "\n",
    "    df_cancer=pd.read_csv('breast-cancer-wisconsin.csv')\n",
    "    df_cancer['Bare_Nuclei'] = LabelEncoder().fit_transform(df_cancer['Bare_Nuclei'])\n",
    "    df= df_cancer.drop(\"ID_Number\", axis = 1)\n",
    "    y = df['Class']\n",
    "    X = df.drop(\"Class\", axis = 1)\n",
    "    return X, y"
   ]
  },
  {
   "cell_type": "markdown",
   "metadata": {},
   "source": [
    "###### Dataset 3-"
   ]
  },
  {
   "cell_type": "code",
   "execution_count": 24,
   "metadata": {},
   "outputs": [],
   "source": [
    "def get_boston():\n",
    "    boston = datasets.load_boston()\n",
    "    X = boston.data\n",
    "    y = boston.target\n",
    "    return X, y"
   ]
  },
  {
   "cell_type": "markdown",
   "metadata": {},
   "source": [
    "###### Dataset 4-"
   ]
  },
  {
   "cell_type": "code",
   "execution_count": 8,
   "metadata": {},
   "outputs": [],
   "source": [
    "def get_digits():\n",
    "    digits = datasets.load_digits()\n",
    "    # To apply a classifier on this data, we need to flatten the image, to\n",
    "    # turn the data in a (samples, feature) matrix:\n",
    "    n_samples = len(digits.images)\n",
    "    X = digits.images.reshape((n_samples, -1))\n",
    "    y = digits.target\n",
    "    return X, y"
   ]
  },
  {
   "cell_type": "markdown",
   "metadata": {},
   "source": [
    "###### Dataset 5-"
   ]
  },
  {
   "cell_type": "code",
   "execution_count": 9,
   "metadata": {},
   "outputs": [],
   "source": [
    "def get_iris():\n",
    "    # import some data to play with\n",
    "    iris = datasets.load_iris()\n",
    "    X = iris.data  # we only take the first two features.\n",
    "    y = iris.target\n",
    "    return X, y"
   ]
  },
  {
   "cell_type": "markdown",
   "metadata": {},
   "source": [
    "###### Dataset 6-"
   ]
  },
  {
   "cell_type": "code",
   "execution_count": 10,
   "metadata": {},
   "outputs": [],
   "source": [
    "def get_diabetes():\n",
    "    diabetes = datasets.load_diabetes()\n",
    "    X = diabetes.data\n",
    "    y = diabetes.target\n",
    "    return X, y"
   ]
  },
  {
   "cell_type": "markdown",
   "metadata": {},
   "source": [
    "###### Dataset 7-"
   ]
  },
  {
   "cell_type": "code",
   "execution_count": 11,
   "metadata": {},
   "outputs": [],
   "source": [
    "def get_mnist():\n",
    "    mnist = pickle.load( open( \"./mldata/mnist.p\", \"rb\" ) )\n",
    "    X = mnist.data\n",
    "    y = le.fit_transform(mnist.target)\n",
    "    return X, y"
   ]
  },
  {
   "cell_type": "markdown",
   "metadata": {},
   "source": [
    "###### Dataset 8-"
   ]
  },
  {
   "cell_type": "code",
   "execution_count": 12,
   "metadata": {},
   "outputs": [],
   "source": [
    "def get_breast_cancer():\n",
    "    data = datasets.load_breast_cancer()\n",
    "    return data.data, data.target"
   ]
  },
  {
   "cell_type": "markdown",
   "metadata": {},
   "source": [
    "###### Dataset 9-"
   ]
  },
  {
   "cell_type": "code",
   "execution_count": 13,
   "metadata": {},
   "outputs": [],
   "source": [
    "def mouse_protein_data():\n",
    "    df = pd.read_excel('./mldata/Mice-protein/Data_Cortex_Nuclear.xls')\n",
    "    y = le.fit_transform(df['class'].values)\n",
    "    df['MouseID'] = le.fit_transform(df['MouseID'])\n",
    "    df['Genotype'] = le.fit_transform(df['Genotype'])\n",
    "    df['Treatment'] = le.fit_transform(df['Treatment'])\n",
    "    df['Behavior'] = le.fit_transform(df['Behavior'])\n",
    "    df = df.fillna('both')\n",
    "    X = df.ix[:,1:81].as_matrix()\n",
    "    return X, y"
   ]
  },
  {
   "cell_type": "markdown",
   "metadata": {},
   "source": [
    "###### Dataset 10-"
   ]
  },
  {
   "cell_type": "code",
   "execution_count": 14,
   "metadata": {},
   "outputs": [],
   "source": [
    "def get_forest_coverage():\n",
    "    train = pd.read_csv('./mldata/forests_coverage/train.csv')\n",
    "#    test = pd.read_csv('./mldata/forests_coverage/test.csv')\n",
    "\n",
    "    keys = list(train.keys())[1:-1]\n",
    "    y_train = le.fit_transform(train['Cover_Type'])\n",
    "    X_train = np.zeros(shape=(train.shape[0], len(keys)), dtype=int)\n",
    "    for i, key in enumerate(keys):\n",
    "        X_train[:,i] = le.fit_transform(train[key])\n",
    "#    y_test = le.fit_transform(test['Cover_Type'])\n",
    "#    X_test = np.zeros(shape=(test.shape[0], len(keys)), dtype=int)\n",
    "#    for i, key in enumerate(keys):\n",
    "#        X_test[:,i] = le.fit_transform(test[key])\n",
    "    return X_train, y_train"
   ]
  },
  {
   "cell_type": "markdown",
   "metadata": {},
   "source": [
    "###### Train and Test Split"
   ]
  },
  {
   "cell_type": "code",
   "execution_count": null,
   "metadata": {},
   "outputs": [],
   "source": [
    "def train_test_split()"
   ]
  },
  {
   "cell_type": "code",
   "execution_count": 15,
   "metadata": {},
   "outputs": [],
   "source": [
    "def get_breast_tissue():\n",
    "    df = pd.read_excel('./mldata/breast_tissue/Data.xlsx')\n",
    "    y = le.fit_transform(df['Class'])\n",
    "    X = df.ix[:,2::].as_matrix()\n",
    "    return X, y"
   ]
  },
  {
   "cell_type": "code",
   "execution_count": null,
   "metadata": {},
   "outputs": [],
   "source": []
  },
  {
   "cell_type": "code",
   "execution_count": 16,
   "metadata": {},
   "outputs": [],
   "source": [
    "def get_wine_quality(color):\n",
    "    if(color=='red'):\n",
    "        df = pd.read_csv('./mldata/wine_quality/winequality-red.csv',sep=';')\n",
    "    else:\n",
    "        df = pd.read_csv('./mldata/wine_quality/winequality-white.csv',sep=';')\n",
    "    X = df.ix[:,0:11].as_matrix()\n",
    "    y = le.fit_transform(df['quality'].as_matrix())\n",
    "    return X, y"
   ]
  },
  {
   "cell_type": "code",
   "execution_count": null,
   "metadata": {},
   "outputs": [],
   "source": []
  },
  {
   "cell_type": "code",
   "execution_count": 17,
   "metadata": {},
   "outputs": [],
   "source": [
    "def get_leaf_data():\n",
    "    df = pd.read_csv('./mldata/leaf/leaf_mod.csv')\n",
    "    y = df['Class'].values\n",
    "    X = df.ix[:,2:].as_matrix()\n",
    "    return X, y"
   ]
  },
  {
   "cell_type": "code",
   "execution_count": null,
   "metadata": {},
   "outputs": [],
   "source": []
  },
  {
   "cell_type": "code",
   "execution_count": 18,
   "metadata": {},
   "outputs": [],
   "source": [
    "def get_abalone():\n",
    "    df = pd.read_csv('mldata/abalone.csv')\n",
    "    df['Sex'] = le.fit_transform(df['Sex'])\n",
    "    X = df.ix[:,1:10].as_matrix()\n",
    "    r = df['Rings']\n",
    "    y = np.zeros(X.shape[0],dtype=int)\n",
    "    for i in range(X.shape[0]):\n",
    "        if(1<=r[i]<=8):\n",
    "            y[i] = 0\n",
    "        elif(9<=r[i]<=10):\n",
    "            y[i] = 1\n",
    "        else:\n",
    "            y[i] = 2\n",
    "    return X, y"
   ]
  }
 ],
 "metadata": {
  "kernelspec": {
   "display_name": "Python 3",
   "language": "python",
   "name": "python3"
  },
  "language_info": {
   "codemirror_mode": {
    "name": "ipython",
    "version": 3
   },
   "file_extension": ".py",
   "mimetype": "text/x-python",
   "name": "python",
   "nbconvert_exporter": "python",
   "pygments_lexer": "ipython3",
   "version": "3.7.1"
  }
 },
 "nbformat": 4,
 "nbformat_minor": 2
}
