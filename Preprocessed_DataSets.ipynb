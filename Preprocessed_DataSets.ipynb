{
 "cells": [
  {
   "cell_type": "markdown",
   "metadata": {},
   "source": [
    "# Dataset and Preprocessing\n",
    "--------------------------------------------------------------------------"
   ]
  },
  {
   "cell_type": "markdown",
   "metadata": {},
   "source": [
    "### Import Statements\n",
    "-------------"
   ]
  },
  {
   "cell_type": "code",
   "execution_count": null,
   "metadata": {},
   "outputs": [],
   "source": [
    "import pandas as pd\n",
    "import matplotlib.pyplot as plt\n",
    "import seaborn as sns\n",
    "from sklearn.preprocessing import LabelEncoder\n",
    "import category_encoders as ce\n",
    "from sklearn.manifold import TSNE\n",
    "%pylab inline\n",
    "from IPython.display import Markdown, display\n",
    "#For displaying titles\n",
    "def printmrdwn(string):\n",
    "    display(Markdown(string))\n",
    "#To disable scroll bar    \n",
    "# %%javascript\n",
    "# IPython.OutputArea.prototype._should_scroll = function(lines) {\n",
    "#     return false;\n",
    "# }\n",
    "# %load_ext disable_autoscroll\n"
   ]
  },
  {
   "cell_type": "markdown",
   "metadata": {},
   "source": [
    "### Function to plot the dataset (t-SNE)\n",
    "--------------------------------------------------------"
   ]
  },
  {
   "cell_type": "code",
   "execution_count": null,
   "metadata": {},
   "outputs": [],
   "source": [
    "def plot_data(Dataset_name,X_data,y_target):\n",
    "    model =TSNE(n_components=2,random_state=0,perplexity=30,n_iter=1000)\n",
    "    tsne_data=model.fit_transform(X_data)\n",
    "    tsne_datastack=np.vstack((tsne_data.T,y_target)).T\n",
    "    tsne_df=pd.DataFrame(data=tsne_datastack,columns=(\"Dim_1\",\"Dim_2\",\"class\"))\n",
    "    sn=sns.FacetGrid(tsne_df,hue=\"class\",size=4)\n",
    "    sn.map(plt.scatter,'Dim_1','Dim_2',alpha=1, \n",
    "          edgecolor='white', linewidth=0.25, s=100).add_legend(title=\"class\")\n",
    "    plt.axis('off')\n",
    "    plt.title(Dataset_name)\n",
    "    plt.show()"
   ]
  },
  {
   "cell_type": "markdown",
   "metadata": {},
   "source": [
    "### Dataset 1-  **Titanic DataSet**\n",
    "***********************************************\n",
    "**Preprocessing method**"
   ]
  },
  {
   "cell_type": "code",
   "execution_count": null,
   "metadata": {},
   "outputs": [],
   "source": [
    "#Titanic Dataset\n",
    "#https://www.kaggle.com/c/titanic/data\n",
    "def get_titanic_data():\n",
    "    df_titanic=pd.read_csv('titanic.csv',)\n",
    "    #Remove unnecessary columns (body= Body Indentification number, Name= Name)\n",
    "    df_titanic.drop(['name','body'],1,inplace=True)\n",
    "    #Fill all the na  \n",
    "    df_titanic.cabin.fillna('unknown',inplace=True)\n",
    "    df_titanic.age.fillna(df_titanic['age'].mean(),inplace=True)\n",
    "    df_titanic.fillna(0,inplace=True)\n",
    "    #Covert nonnumeric value into numeric\n",
    "    df_titanic['sex'] = LabelEncoder().fit_transform(df_titanic['sex'])\n",
    "    df_titanic['cabin'] = LabelEncoder().fit_transform(df_titanic['cabin'].astype(str))\n",
    "    df_titanic['embarked'] = LabelEncoder().fit_transform(df_titanic['embarked'].astype(str))\n",
    "    df_titanic['home.dest'] = LabelEncoder().fit_transform(df_titanic['home.dest'].astype(str))\n",
    "    df_titanic['ticket'] = LabelEncoder().fit_transform(df_titanic['ticket'])\n",
    "    df_titanic['boat'] = LabelEncoder().fit_transform(df_titanic['boat'].astype(str))\n",
    "    # df_titanic.head()\n",
    "    # df_titanic.dtypes\n",
    "    # print(df_titanic.isnull().sum())\n",
    "    X = df_titanic.drop(\"pclass\", axis = 1)\n",
    "    y = df_titanic['pclass']\n",
    "    print(\"\\n** Titanic Dataset **\\n\\n\",X.head())\n",
    "    print(\"\\n** Class Column **\\n\",y.head())    \n",
    "    return X,y"
   ]
  },
  {
   "cell_type": "markdown",
   "metadata": {},
   "source": [
    "**Visualizing the dataset using t-SNE**"
   ]
  },
  {
   "cell_type": "code",
   "execution_count": null,
   "metadata": {},
   "outputs": [],
   "source": [
    "X_titanic,y_titanic=get_titanic_data()\n",
    "plot_data(\"Titanic Data\",X_titanic,y_titanic)"
   ]
  },
  {
   "cell_type": "markdown",
   "metadata": {},
   "source": [
    "### Dataset 2- Breast Cancer Dataset\n",
    "***********************************************\n",
    "**Preprocessing method**"
   ]
  },
  {
   "cell_type": "code",
   "execution_count": null,
   "metadata": {},
   "outputs": [],
   "source": [
    "#Breast Cancer Dataset\n",
    "#http://archive.ics.uci.edu/ml/machine-learning-databases/breast-cancer-wisconsin/\n",
    "def get_breastCancer_dataset():\n",
    "\n",
    "    df_cancer=pd.read_csv('breast-cancer-wisconsin.csv')\n",
    "    printmrdwn(\"Data Description\")\n",
    "    print(df_cancer.describe())\n",
    "    df_cancer['Bare_Nuclei'] = LabelEncoder().fit_transform(df_cancer['Bare_Nuclei'])\n",
    "    df_cancer= df_cancer.drop(\"ID_Number\", axis = 1)\n",
    "    printmrdwn(\"Data Distribution\")\n",
    "    df_cancer['Class'].value_counts().sort_index().plot.bar()\n",
    "    plt.show()\n",
    "    printmrdwn(\"Data Types\")\n",
    "    print(df_cancer.dtypes)\n",
    "    y = df_cancer['Class']\n",
    "    X = df_cancer.drop(\"Class\", axis = 1)\n",
    "    printmrdwn(\"Breast Cancer Dataset\")\n",
    "    print(X.head())\n",
    "    printmrdwn(\"Class Column\")\n",
    "    print(y.head()) \n",
    "    return X, y"
   ]
  },
  {
   "cell_type": "code",
   "execution_count": null,
   "metadata": {},
   "outputs": [],
   "source": [
    "X_breastCancer,y_breastCancer=get_breastCancer_dataset()\n",
    "plot_data(\"Breast Cancer\",X_breastCancer,y_breastCancer)"
   ]
  },
  {
   "cell_type": "markdown",
   "metadata": {},
   "source": [
    "### Dataset 3- Glass Dataset\n",
    "***********************************************\n",
    "**Preprocessing method**"
   ]
  },
  {
   "cell_type": "code",
   "execution_count": null,
   "metadata": {},
   "outputs": [],
   "source": [
    "def get_glass():\n",
    "    #Reading dataset from the csv file\n",
    "    df_glass=pd.read_csv('glass.csv')\n",
    "    printmrdwn(\"Data Description\")\n",
    "    print(df_glass.describe())\n",
    "    #Randomozing the dataset rows\n",
    "    np.random.seed(1)\n",
    "    shuffled_index=np.random.permutation(df_glass.index)\n",
    "    df_glass=df_glass.loc[shuffled_index]\n",
    "    #NonUniform distribution of data\n",
    "    printmrdwn(\"Data Distribution\")\n",
    "    df_glass['Type'].value_counts().sort_index().plot.bar()\n",
    "    plt.show()\n",
    "    printmrdwn(\"Data Types\")\n",
    "    print(df_glass.dtypes)\n",
    "    #Convert dataset into taarget and attribute set\n",
    "    # axis 1 refers to the columns\n",
    "    X= df_glass.drop('Type', axis = 1)\n",
    "    y=df_glass['Type']\n",
    "    printmrdwn(\"Glass Dataset\",)\n",
    "    print(X.head())\n",
    "    printmrdwn(\"Class Column\")\n",
    "    print(y.head()) \n",
    "    #feature_list=dataset_data.columns\n",
    "    return X, y"
   ]
  },
  {
   "cell_type": "code",
   "execution_count": null,
   "metadata": {},
   "outputs": [],
   "source": [
    "X_glass,y_glass=get_glass()\n",
    "plot_data(\"Glass Dataset\",X_glass,y_glass)"
   ]
  },
  {
   "cell_type": "markdown",
   "metadata": {},
   "source": [
    "### Dataset 4- Audit Dataset\n",
    "***********************************************\n",
    "**Preprocessing method**"
   ]
  },
  {
   "cell_type": "code",
   "execution_count": null,
   "metadata": {},
   "outputs": [],
   "source": [
    "#https://archive.ics.uci.edu/ml/machine-learning-databases/00475/\n",
    "#Audit Dataset\n",
    "def get_auditData():\n",
    "    #Reading dataset from the csv file\n",
    "    df_auditrisk=pd.read_csv('audit_risk.csv')\n",
    "    printmrdwn(\"Data Description\")\n",
    "    print(df_auditrisk.describe())\n",
    "    #Randomozing the dataset rows\n",
    "    np.random.seed(1)\n",
    "    shuffled_index=np.random.permutation(df_auditrisk.index)\n",
    "    df_auditrisk=df_auditrisk.loc[shuffled_index]\n",
    "    #NonUniform distribution of data\n",
    "    printmrdwn(\"Data Distribution\")\n",
    "    df_auditrisk['Risk'].value_counts().sort_index().plot.bar()\n",
    "    # print(df_auditrisk.isna().sum())\n",
    "    df_auditrisk.Money_Value.fillna(0,inplace=True)\n",
    "    plt.show()    \n",
    "    df_auditrisk['LOCATION_ID'] = LabelEncoder().fit_transform(df_auditrisk['LOCATION_ID'])\n",
    "    printmrdwn(\"Data Types\")\n",
    "    print(df_auditrisk.dtypes)\n",
    "    #Convert dataset into taarget and attribute set\n",
    "    # axis 1 refers to the columns\n",
    "    X= df_auditrisk.drop('Risk', axis = 1)\n",
    "    y=dataset['Risk']\n",
    "    printmrdwn(\"Audit Dataset\")\n",
    "    print(X.head())\n",
    "    printmrdwn(\"Risk Column\")\n",
    "    print(y.head()) \n",
    "    return(X,y)"
   ]
  },
  {
   "cell_type": "code",
   "execution_count": null,
   "metadata": {},
   "outputs": [],
   "source": [
    "X_audit,y_audit=get_auditData()\n",
    "plot_data(\"Audit Dataset\",X_audit,y_audit)"
   ]
  },
  {
   "cell_type": "markdown",
   "metadata": {},
   "source": [
    "### Dataset 5- Car Dataset\n",
    "***********************************************\n",
    "**Preprocessing method**"
   ]
  },
  {
   "cell_type": "code",
   "execution_count": null,
   "metadata": {},
   "outputs": [],
   "source": [
    "#Car Dataset\n",
    "#https://archive.ics.uci.edu/ml/datasets/car+evaluation\n",
    "def get_car():\n",
    "    #Reading dataset from the csv file\n",
    "    df_car=pd.read_csv('car.csv')\n",
    "    printmrdwn(\"Data Description\")\n",
    "    print(df_car.describe())\n",
    "    #Randomozing the dataset rows\n",
    "    np.random.seed(1)\n",
    "    shuffled_index=np.random.permutation(df_car.index)\n",
    "    df_car=df_car.loc[shuffled_index]\n",
    "    #NonUniform distribution of data\n",
    "    printmrdwn(\"Data Distribution\")\n",
    "    df_car['Class'].value_counts().sort_index().plot.bar()\n",
    "    plt.show() \n",
    "    printmrdwn(\"Nan Values if any\")\n",
    "    print(df_car.isna().sum())\n",
    "    printmrdwn(\"Data Types\")\n",
    "    print(df_car.dtypes)\n",
    "    printmrdwn(\"Data Set\")\n",
    "    print(df_car.head(5))\n",
    "    #Encoding for ordinal value\n",
    "    printmrdwn(\"After Ordinal Encoding\")\n",
    "    df_car['Buying'] = ce.OrdinalEncoder().fit_transform(df_car['Buying'])\n",
    "    df_car['Buying'] = ce.OrdinalEncoder().fit_transform(df_car['Buying'])\n",
    "    df_car['Maintance'] = ce.OrdinalEncoder().fit_transform(df_car['Maintance'])\n",
    "    df_car['Doors'] = ce.OrdinalEncoder().fit_transform(df_car['Doors'])\n",
    "    df_car['Persons'] = ce.OrdinalEncoder().fit_transform(df_car['Persons'])\n",
    "    df_car['Lug_boot'] = ce.OrdinalEncoder().fit_transform(df_car['Lug_boot'])\n",
    "    df_car['Sfety'] = ce.OrdinalEncoder().fit_transform(df_car['Sfety'])\n",
    "    printmrdwn(\"Modified Data Types\")\n",
    "    print(df_car.dtypes)\n",
    "    printmrdwn(\"Modified Data\")\n",
    "    print(df_car.head(5))\n",
    "    #Convert dataset into taarget and attribute set\n",
    "    # axis 1 refers to the columns\n",
    "    X= df_car.drop('Class', axis = 1)\n",
    "    y=df_car['Class']\n",
    "    printmrdwn(\"Car Dataset\")\n",
    "    print(X.head(5))\n",
    "    printmrdwn(\"Class Column\")\n",
    "    print(y.head(5))    \n",
    "    return X, y"
   ]
  },
  {
   "cell_type": "code",
   "execution_count": null,
   "metadata": {},
   "outputs": [],
   "source": [
    "X_car,y_car=get_car()\n",
    "plot_data(\"Car Dataset\",X_car,y_car)"
   ]
  },
  {
   "cell_type": "markdown",
   "metadata": {},
   "source": [
    "### Dataset 6- Vote Dataset\n",
    "***********************************************\n",
    "**Preprocessing method**"
   ]
  },
  {
   "cell_type": "code",
   "execution_count": 257,
   "metadata": {},
   "outputs": [],
   "source": [
    "#Vote Dataset\n",
    "#https://archive.ics.uci.edu/ml/datasets/congressional+voting+records\n",
    "def get_voteData():\n",
    "    #Reading dataset from the csv file\n",
    "    df_vote=pd.read_csv('house_votes.csv')\n",
    "    printmrdwn(\"Data Description\")\n",
    "    print(df_vote.describe())\n",
    "    #Randomozing the dataset rows\n",
    "    np.random.seed(1)\n",
    "    shuffled_index=np.random.permutation(df_vote.index)\n",
    "    df_vote=df_vote.loc[shuffled_index]\n",
    "    #NonUniform distribution of data\n",
    "    printmrdwn(\"Data Distribution\")\n",
    "    df_vote['Class'].value_counts().sort_index().plot.bar()\n",
    "    plt.show() \n",
    "    printmrdwn(\"Nan Values if any\")\n",
    "    print(df_vote.isna().sum())\n",
    "    printmrdwn(\"Data Types\")\n",
    "    print(df_vote.dtypes)\n",
    "    printmrdwn(\"Data Set\")\n",
    "    print(df_vote.head(5))\n",
    "    #Here in this dataaset we have question marks. I am not handling question mark. Considering the question mark as another categorical varable\n",
    "    #Encoding for ordinal value\n",
    "    printmrdwn(\"After Ordinal Encoding\")\n",
    "    df_vote= ce.OrdinalEncoder().fit_transform(df_vote)\n",
    "    printmrdwn(\"Modified Data Types\")\n",
    "    print(df_vote.dtypes)\n",
    "    printmrdwn(\"Modified Data\")\n",
    "    print(df_vote.head(5))\n",
    "    #Convert dataset into taarget and attribute set\n",
    "    # axis 1 refers to the columns\n",
    "    X= df_vote.drop('Class', axis = 1)\n",
    "    y=df_vote['Class']\n",
    "    printmrdwn(\"Vote Dataset\")\n",
    "    print(X.head(5))\n",
    "    printmrdwn(\"Class Column\")\n",
    "    print(y.head(5))    \n",
    "    return X, y"
   ]
  },
  {
   "cell_type": "code",
   "execution_count": 258,
   "metadata": {},
   "outputs": [
    {
     "data": {
      "text/markdown": [
       "Data Description"
      ],
      "text/plain": [
       "<IPython.core.display.Markdown object>"
      ]
     },
     "metadata": {},
     "output_type": "display_data"
    },
    {
     "name": "stdout",
     "output_type": "stream",
     "text": [
      "           Class handicapped-infants water-project-cost-sharing  \\\n",
      "count        435                 435                        435   \n",
      "unique         2                   3                          3   \n",
      "top     democrat                   n                          y   \n",
      "freq         267                 236                        195   \n",
      "\n",
      "       adoption-of-the-budget-resolution physician-fee-freeze el-salvador-aid  \\\n",
      "count                                435                  435             435   \n",
      "unique                                 3                    3               3   \n",
      "top                                    y                    n               y   \n",
      "freq                                 253                  247             212   \n",
      "\n",
      "       religious-groups-in-schools anti-satellite-test-ban  \\\n",
      "count                          435                     435   \n",
      "unique                           3                       3   \n",
      "top                              y                       y   \n",
      "freq                           272                     239   \n",
      "\n",
      "       aid-to-nicaraguan-contras mx-missile immigration  \\\n",
      "count                        435        435         435   \n",
      "unique                         3          3           3   \n",
      "top                            y          y           y   \n",
      "freq                         242        207         216   \n",
      "\n",
      "       synfuels-corporation-cutback education-spending superfund-right-to-sue  \\\n",
      "count                           435                435                    435   \n",
      "unique                            3                  3                      3   \n",
      "top                               n                  n                      y   \n",
      "freq                            264                233                    209   \n",
      "\n",
      "       crime duty-free-exports export-administration-act-south-africa  \n",
      "count    435               435                                    435  \n",
      "unique     3                 3                                      3  \n",
      "top        y                 n                                      y  \n",
      "freq     248               233                                    269  \n"
     ]
    },
    {
     "data": {
      "text/markdown": [
       "Data Distribution"
      ],
      "text/plain": [
       "<IPython.core.display.Markdown object>"
      ]
     },
     "metadata": {},
     "output_type": "display_data"
    },
    {
     "data": {
      "image/png": "[encoded data removed]",
      "text/plain": [
       "<Figure size 432x288 with 1 Axes>"
      ]
     },
     "metadata": {
      "needs_background": "light"
     },
     "output_type": "display_data"
    },
    {
     "data": {
      "text/markdown": [
       "Nan Values if any"
      ],
      "text/plain": [
       "<IPython.core.display.Markdown object>"
      ]
     },
     "metadata": {},
     "output_type": "display_data"
    },
    {
     "name": "stdout",
     "output_type": "stream",
     "text": [
      "Class                                     0\n",
      "handicapped-infants                       0\n",
      "water-project-cost-sharing                0\n",
      "adoption-of-the-budget-resolution         0\n",
      "physician-fee-freeze                      0\n",
      "el-salvador-aid                           0\n",
      "religious-groups-in-schools               0\n",
      "anti-satellite-test-ban                   0\n",
      "aid-to-nicaraguan-contras                 0\n",
      "mx-missile                                0\n",
      "immigration                               0\n",
      "synfuels-corporation-cutback              0\n",
      "education-spending                        0\n",
      "superfund-right-to-sue                    0\n",
      "crime                                     0\n",
      "duty-free-exports                         0\n",
      "export-administration-act-south-africa    0\n",
      "dtype: int64\n"
     ]
    },
    {
     "data": {
      "text/markdown": [
       "Data Types"
      ],
      "text/plain": [
       "<IPython.core.display.Markdown object>"
      ]
     },
     "metadata": {},
     "output_type": "display_data"
    },
    {
     "name": "stdout",
     "output_type": "stream",
     "text": [
      "Class                                     object\n",
      "handicapped-infants                       object\n",
      "water-project-cost-sharing                object\n",
      "adoption-of-the-budget-resolution         object\n",
      "physician-fee-freeze                      object\n",
      "el-salvador-aid                           object\n",
      "religious-groups-in-schools               object\n",
      "anti-satellite-test-ban                   object\n",
      "aid-to-nicaraguan-contras                 object\n",
      "mx-missile                                object\n",
      "immigration                               object\n",
      "synfuels-corporation-cutback              object\n",
      "education-spending                        object\n",
      "superfund-right-to-sue                    object\n",
      "crime                                     object\n",
      "duty-free-exports                         object\n",
      "export-administration-act-south-africa    object\n",
      "dtype: object\n"
     ]
    },
    {
     "data": {
      "text/markdown": [
       "Data Set"
      ],
      "text/plain": [
       "<IPython.core.display.Markdown object>"
      ]
     },
     "metadata": {},
     "output_type": "display_data"
    },
    {
     "name": "stdout",
     "output_type": "stream",
     "text": [
      "          Class handicapped-infants water-project-cost-sharing  \\\n",
      "348    democrat                   y                          n   \n",
      "201    democrat                   y                          y   \n",
      "122  republican                   n                          n   \n",
      "407    democrat                   n                          n   \n",
      "256  republican                   n                          n   \n",
      "\n",
      "    adoption-of-the-budget-resolution physician-fee-freeze el-salvador-aid  \\\n",
      "348                                 y                    n               n   \n",
      "201                                 y                    n               n   \n",
      "122                                 n                    y               y   \n",
      "407                                 n                    y               y   \n",
      "256                                 n                    y               y   \n",
      "\n",
      "    religious-groups-in-schools anti-satellite-test-ban  \\\n",
      "348                           n                       y   \n",
      "201                           n                       y   \n",
      "122                           y                       n   \n",
      "407                           y                       n   \n",
      "256                           n                       n   \n",
      "\n",
      "    aid-to-nicaraguan-contras mx-missile immigration  \\\n",
      "348                         y          y           y   \n",
      "201                         y          y           n   \n",
      "122                         n          n           y   \n",
      "407                         n          n           n   \n",
      "256                         n          n           n   \n",
      "\n",
      "    synfuels-corporation-cutback education-spending superfund-right-to-sue  \\\n",
      "348                            n                  y                      n   \n",
      "201                            n                  n                      n   \n",
      "122                            n                  y                      n   \n",
      "407                            y                  y                      y   \n",
      "256                            n                  y                      n   \n",
      "\n",
      "    crime duty-free-exports export-administration-act-south-africa  \n",
      "348     n                 y                                      ?  \n",
      "201     n                 y                                      y  \n",
      "122     y                 n                                      y  \n",
      "407     y                 n                                      n  \n",
      "256     y                 n                                      n  \n"
     ]
    },
    {
     "data": {
      "text/markdown": [
       "After Ordinal Encoding"
      ],
      "text/plain": [
       "<IPython.core.display.Markdown object>"
      ]
     },
     "metadata": {},
     "output_type": "display_data"
    },
    {
     "data": {
      "text/markdown": [
       "Modified Data Types"
      ],
      "text/plain": [
       "<IPython.core.display.Markdown object>"
      ]
     },
     "metadata": {},
     "output_type": "display_data"
    },
    {
     "name": "stdout",
     "output_type": "stream",
     "text": [
      "Class                                     int32\n",
      "handicapped-infants                       int32\n",
      "water-project-cost-sharing                int32\n",
      "adoption-of-the-budget-resolution         int32\n",
      "physician-fee-freeze                      int32\n",
      "el-salvador-aid                           int32\n",
      "religious-groups-in-schools               int32\n",
      "anti-satellite-test-ban                   int32\n",
      "aid-to-nicaraguan-contras                 int32\n",
      "mx-missile                                int32\n",
      "immigration                               int32\n",
      "synfuels-corporation-cutback              int32\n",
      "education-spending                        int32\n",
      "superfund-right-to-sue                    int32\n",
      "crime                                     int32\n",
      "duty-free-exports                         int32\n",
      "export-administration-act-south-africa    int32\n",
      "dtype: object\n"
     ]
    },
    {
     "data": {
      "text/markdown": [
       "Modified Data"
      ],
      "text/plain": [
       "<IPython.core.display.Markdown object>"
      ]
     },
     "metadata": {},
     "output_type": "display_data"
    },
    {
     "name": "stdout",
     "output_type": "stream",
     "text": [
      "     Class  handicapped-infants  water-project-cost-sharing  \\\n",
      "348      1                    1                           1   \n",
      "201      1                    1                           2   \n",
      "122      2                    2                           1   \n",
      "407      1                    2                           1   \n",
      "256      2                    2                           1   \n",
      "\n",
      "     adoption-of-the-budget-resolution  physician-fee-freeze  el-salvador-aid  \\\n",
      "348                                  1                     1                1   \n",
      "201                                  1                     1                1   \n",
      "122                                  2                     2                2   \n",
      "407                                  2                     2                2   \n",
      "256                                  2                     2                2   \n",
      "\n",
      "     religious-groups-in-schools  anti-satellite-test-ban  \\\n",
      "348                            1                        1   \n",
      "201                            1                        1   \n",
      "122                            2                        2   \n",
      "407                            2                        2   \n",
      "256                            1                        2   \n",
      "\n",
      "     aid-to-nicaraguan-contras  mx-missile  immigration  \\\n",
      "348                          1           1            1   \n",
      "201                          1           1            2   \n",
      "122                          2           2            1   \n",
      "407                          2           2            2   \n",
      "256                          2           2            2   \n",
      "\n",
      "     synfuels-corporation-cutback  education-spending  superfund-right-to-sue  \\\n",
      "348                             1                   1                       1   \n",
      "201                             1                   2                       1   \n",
      "122                             1                   1                       1   \n",
      "407                             2                   1                       2   \n",
      "256                             1                   1                       1   \n",
      "\n",
      "     crime  duty-free-exports  export-administration-act-south-africa  \n",
      "348      1                  1                                       1  \n",
      "201      1                  1                                       2  \n",
      "122      2                  2                                       2  \n",
      "407      2                  2                                       3  \n",
      "256      2                  2                                       3  \n"
     ]
    },
    {
     "data": {
      "text/markdown": [
       "Vote Dataset"
      ],
      "text/plain": [
       "<IPython.core.display.Markdown object>"
      ]
     },
     "metadata": {},
     "output_type": "display_data"
    },
    {
     "name": "stdout",
     "output_type": "stream",
     "text": [
      "     handicapped-infants  water-project-cost-sharing  \\\n",
      "348                    1                           1   \n",
      "201                    1                           2   \n",
      "122                    2                           1   \n",
      "407                    2                           1   \n",
      "256                    2                           1   \n",
      "\n",
      "     adoption-of-the-budget-resolution  physician-fee-freeze  el-salvador-aid  \\\n",
      "348                                  1                     1                1   \n",
      "201                                  1                     1                1   \n",
      "122                                  2                     2                2   \n",
      "407                                  2                     2                2   \n",
      "256                                  2                     2                2   \n",
      "\n",
      "     religious-groups-in-schools  anti-satellite-test-ban  \\\n",
      "348                            1                        1   \n",
      "201                            1                        1   \n",
      "122                            2                        2   \n",
      "407                            2                        2   \n",
      "256                            1                        2   \n",
      "\n",
      "     aid-to-nicaraguan-contras  mx-missile  immigration  \\\n",
      "348                          1           1            1   \n",
      "201                          1           1            2   \n",
      "122                          2           2            1   \n",
      "407                          2           2            2   \n",
      "256                          2           2            2   \n",
      "\n",
      "     synfuels-corporation-cutback  education-spending  superfund-right-to-sue  \\\n",
      "348                             1                   1                       1   \n",
      "201                             1                   2                       1   \n",
      "122                             1                   1                       1   \n",
      "407                             2                   1                       2   \n",
      "256                             1                   1                       1   \n",
      "\n",
      "     crime  duty-free-exports  export-administration-act-south-africa  \n",
      "348      1                  1                                       1  \n",
      "201      1                  1                                       2  \n",
      "122      2                  2                                       2  \n",
      "407      2                  2                                       3  \n",
      "256      2                  2                                       3  \n"
     ]
    },
    {
     "data": {
      "text/markdown": [
       "Class Column"
      ],
      "text/plain": [
       "<IPython.core.display.Markdown object>"
      ]
     },
     "metadata": {},
     "output_type": "display_data"
    },
    {
     "name": "stdout",
     "output_type": "stream",
     "text": [
      "348    1\n",
      "201    1\n",
      "122    2\n",
      "407    1\n",
      "256    2\n",
      "Name: Class, dtype: int32\n"
     ]
    },
    {
     "name": "stderr",
     "output_type": "stream",
     "text": [
      "C:\\Users\\Petrofac\\Anaconda3\\lib\\site-packages\\seaborn\\axisgrid.py:230: UserWarning: The `size` paramter has been renamed to `height`; please update your code.\n",
      "  warnings.warn(msg, UserWarning)\n"
     ]
    },
    {
     "data": {
      "image/png": "[encoded data removed]",
      "text/plain": [
       "<Figure size 339.875x288 with 1 Axes>"
      ]
     },
     "metadata": {
      "needs_background": "light"
     },
     "output_type": "display_data"
    }
   ],
   "source": [
    "X_vote,y_vote=get_voteData()\n",
    "plot_data(\"Vote Dataset\",X_vote,y_vote)"
   ]
  },
  {
   "cell_type": "markdown",
   "metadata": {},
   "source": [
    "### Dataset 7- Sonar Dataset\n",
    "***********************************************\n",
    "**Preprocessing method**"
   ]
  },
  {
   "cell_type": "code",
   "execution_count": null,
   "metadata": {},
   "outputs": [],
   "source": [
    "def get_mnist():\n",
    "    mnist = pickle.load( open( \"./mldata/mnist.p\", \"rb\" ) )\n",
    "    X = mnist.data\n",
    "    y = le.fit_transform(mnist.target)\n",
    "    return X, y"
   ]
  },
  {
   "cell_type": "markdown",
   "metadata": {},
   "source": [
    "### Dataset 8- BlackFriday Dataset\n",
    "***********************************************\n",
    "**Preprocessing method**"
   ]
  },
  {
   "cell_type": "code",
   "execution_count": null,
   "metadata": {},
   "outputs": [],
   "source": [
    "def get_breast_cancer():\n",
    "    data = datasets.load_breast_cancer()\n",
    "    return data.data, data.target"
   ]
  },
  {
   "cell_type": "markdown",
   "metadata": {},
   "source": [
    "### Dataset 9-  Dataset\n",
    "***********************************************\n",
    "**Preprocessing method**"
   ]
  },
  {
   "cell_type": "code",
   "execution_count": null,
   "metadata": {},
   "outputs": [],
   "source": [
    "def mouse_protein_data():\n",
    "    df = pd.read_excel('./mldata/Mice-protein/Data_Cortex_Nuclear.xls')\n",
    "    y = le.fit_transform(df['class'].values)\n",
    "    df['MouseID'] = le.fit_transform(df['MouseID'])\n",
    "    df['Genotype'] = le.fit_transform(df['Genotype'])\n",
    "    df['Treatment'] = le.fit_transform(df['Treatment'])\n",
    "    df['Behavior'] = le.fit_transform(df['Behavior'])\n",
    "    df = df.fillna('both')\n",
    "    X = df.ix[:,1:81].as_matrix()\n",
    "    return X, y"
   ]
  },
  {
   "cell_type": "markdown",
   "metadata": {},
   "source": [
    "### Dataset 10-  Dataset\n",
    "***********************************************\n",
    "**Preprocessing method**"
   ]
  },
  {
   "cell_type": "code",
   "execution_count": null,
   "metadata": {},
   "outputs": [],
   "source": [
    "def get_forest_coverage():\n",
    "    train = pd.read_csv('./mldata/forests_coverage/train.csv')\n",
    "#    test = pd.read_csv('./mldata/forests_coverage/test.csv')\n",
    "\n",
    "    keys = list(train.keys())[1:-1]\n",
    "    y_train = le.fit_transform(train['Cover_Type'])\n",
    "    X_train = np.zeros(shape=(train.shape[0], len(keys)), dtype=int)\n",
    "    for i, key in enumerate(keys):\n",
    "        X_train[:,i] = le.fit_transform(train[key])\n",
    "#    y_test = le.fit_transform(test['Cover_Type'])\n",
    "#    X_test = np.zeros(shape=(test.shape[0], len(keys)), dtype=int)\n",
    "#    for i, key in enumerate(keys):\n",
    "#        X_test[:,i] = le.fit_transform(test[key])\n",
    "    return X_train, y_train"
   ]
  },
  {
   "cell_type": "markdown",
   "metadata": {},
   "source": [
    "### Dataset 11-  Dataset\n",
    "***********************************************\n",
    "**Preprocessing method**"
   ]
  },
  {
   "cell_type": "code",
   "execution_count": null,
   "metadata": {},
   "outputs": [],
   "source": [
    "def get_breast_tissue():\n",
    "    df = pd.read_excel('./mldata/breast_tissue/Data.xlsx')\n",
    "    y = le.fit_transform(df['Class'])\n",
    "    X = df.ix[:,2::].as_matrix()\n",
    "    return X, y"
   ]
  },
  {
   "cell_type": "markdown",
   "metadata": {},
   "source": [
    "### Dataset 11-  Dataset\n",
    "***********************************************\n",
    "**Preprocessing method**"
   ]
  },
  {
   "cell_type": "code",
   "execution_count": null,
   "metadata": {},
   "outputs": [],
   "source": [
    "def get_wine_quality(color):\n",
    "    if(color=='red'):\n",
    "        df = pd.read_csv('./mldata/wine_quality/winequality-red.csv',sep=';')\n",
    "    else:\n",
    "        df = pd.read_csv('./mldata/wine_quality/winequality-white.csv',sep=';')\n",
    "    X = df.ix[:,0:11].as_matrix()\n",
    "    y = le.fit_transform(df['quality'].as_matrix())\n",
    "    return X, y"
   ]
  },
  {
   "cell_type": "markdown",
   "metadata": {},
   "source": [
    "### Dataset 12-  Dataset\n",
    "***********************************************\n",
    "**Preprocessing method**"
   ]
  },
  {
   "cell_type": "code",
   "execution_count": null,
   "metadata": {},
   "outputs": [],
   "source": [
    "def get_leaf_data():\n",
    "    df = pd.read_csv('./mldata/leaf/leaf_mod.csv')\n",
    "    y = df['Class'].values\n",
    "    X = df.ix[:,2:].as_matrix()\n",
    "    return X, y"
   ]
  },
  {
   "cell_type": "markdown",
   "metadata": {},
   "source": [
    "### Dataset 13-  Dataset\n",
    "***********************************************\n",
    "**Preprocessing method**"
   ]
  },
  {
   "cell_type": "code",
   "execution_count": null,
   "metadata": {},
   "outputs": [],
   "source": [
    "def get_digits():\n",
    "    digits = datasets.load_digits()\n",
    "    # To apply a classifier on this data, we need to flatten the image, to\n",
    "    # turn the data in a (samples, feature) matrix:\n",
    "    n_samples = len(digits.images)\n",
    "    X = digits.images.reshape((n_samples, -1))\n",
    "    y = digits.target\n",
    "    return X, y"
   ]
  },
  {
   "cell_type": "markdown",
   "metadata": {},
   "source": [
    "### Dataset 14-  Dataset\n",
    "***********************************************\n",
    "**Preprocessing method**"
   ]
  },
  {
   "cell_type": "code",
   "execution_count": null,
   "metadata": {},
   "outputs": [],
   "source": [
    "def get_abalone():\n",
    "    df = pd.read_csv('mldata/abalone.csv')\n",
    "    df['Sex'] = le.fit_transform(df['Sex'])\n",
    "    X = df.ix[:,1:10].as_matrix()\n",
    "    r = df['Rings']\n",
    "    y = np.zeros(X.shape[0],dtype=int)\n",
    "    for i in range(X.shape[0]):\n",
    "        if(1<=r[i]<=8):\n",
    "            y[i] = 0\n",
    "        elif(9<=r[i]<=10):\n",
    "            y[i] = 1\n",
    "        else:\n",
    "            y[i] = 2\n",
    "    return X, y"
   ]
  },
  {
   "cell_type": "markdown",
   "metadata": {},
   "source": [
    "### Dataset 15-  Dataset\n",
    "***********************************************\n",
    "**Preprocessing method**"
   ]
  },
  {
   "cell_type": "code",
   "execution_count": null,
   "metadata": {},
   "outputs": [],
   "source": []
  }
 ],
 "metadata": {
  "kernelspec": {
   "display_name": "Python 3",
   "language": "python",
   "name": "python3"
  },
  "language_info": {
   "codemirror_mode": {
    "name": "ipython",
    "version": 3
   },
   "file_extension": ".py",
   "mimetype": "text/x-python",
   "name": "python",
   "nbconvert_exporter": "python",
   "pygments_lexer": "ipython3",
   "version": "3.7.1"
  }
 },
 "nbformat": 4,
 "nbformat_minor": 2
}
