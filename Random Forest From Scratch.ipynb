{
 "cells": [
  {
   "cell_type": "markdown",
   "metadata": {},
   "source": [
    "#### Import Statements"
   ]
  },
  {
   "cell_type": "code",
   "execution_count": 5,
   "metadata": {},
   "outputs": [],
   "source": [
    "import numpy as np\n",
    "import pandas as pd\n",
    "\n",
    "import matplotlib.pyplot as plt\n",
    "import seaborn as sns\n",
    "%matplotlib inline\n",
    "\n",
    "import random \n",
    "from pprint import pprint"
   ]
  },
  {
   "cell_type": "markdown",
   "metadata": {},
   "source": [
    "#### Functions"
   ]
  },
  {
   "cell_type": "markdown",
   "metadata": {},
   "source": [
    "###### Test_Train_Split"
   ]
  },
  {
   "cell_type": "code",
   "execution_count": 16,
   "metadata": {},
   "outputs": [],
   "source": [
    "def train_test_split(df,test_size):\n",
    "    \n",
    "    if isinstance(test_size,float):\n",
    "        test_size=round(test_size*len(df))\n",
    "\n",
    "    indices = df.index.tolist()\n",
    "    test_indices=random.sample(population=indices,k=test_size)\n",
    "\n",
    "    test_df=df.loc[test_indices]\n",
    "    train_df=df.drop(test_indices)\n",
    "    \n",
    "    return train_df,test_df"
   ]
  },
  {
   "cell_type": "markdown",
   "metadata": {},
   "source": [
    "###### Check Data Pure"
   ]
  },
  {
   "cell_type": "code",
   "execution_count": 17,
   "metadata": {},
   "outputs": [],
   "source": [
    "def check_ifpure(data):\n",
    "    label_clmn=data[:,-1]\n",
    "    unique_check=np.unique(label_clmn)\n",
    "\n",
    "    if len(unique_check)== 1:\n",
    "        return True\n",
    "    else:\n",
    "        return False"
   ]
  },
  {
   "cell_type": "markdown",
   "metadata": {},
   "source": [
    "###### Classify Data"
   ]
  },
  {
   "cell_type": "code",
   "execution_count": 9,
   "metadata": {},
   "outputs": [],
   "source": [
    "def classify_data(data):\n",
    "    label_clmn=data[:,-1]\n",
    "    unique_classes,unique_count=np.unique(label_clmn,return_counts=True)\n",
    "    index=unique_count.argmax()\n",
    "    finalClass=unique_classes[index]\n",
    "    return finalClass"
   ]
  },
  {
   "cell_type": "markdown",
   "metadata": {},
   "source": [
    "###### Find Potential Split"
   ]
  },
  {
   "cell_type": "code",
   "execution_count": 10,
   "metadata": {},
   "outputs": [],
   "source": [
    "def get_appropriate_splt(data):\n",
    "    \n",
    "    app_splits={}\n",
    "    _,column=data.shape\n",
    "    for col_index in range(column-1):\n",
    "        app_splits[col_index]=[]\n",
    "        values=data[:,col_index]\n",
    "        unique_val=np.unique(values)\n",
    "\n",
    "        for indx in range(len(unique_val)):\n",
    "            if indx != 0:\n",
    "                presnt_val=unique_val[indx]\n",
    "                prev_val=unique_val[indx-1]\n",
    "                app_split=(presnt_val+prev_val)/2\n",
    "\n",
    "                app_splits[col_index].append(app_split)\n",
    "\n",
    "            \n",
    "    return app_splits"
   ]
  },
  {
   "cell_type": "markdown",
   "metadata": {},
   "source": [
    "###### Split Data"
   ]
  },
  {
   "cell_type": "code",
   "execution_count": 18,
   "metadata": {},
   "outputs": [],
   "source": [
    "def split_data(data, split_clmn, split_val):\n",
    "    \n",
    "    split_column_val=data[:,split_clmn]\n",
    "    \n",
    "    data_belw=data[split_column_val<=split_val]\n",
    "    data_above=data[split_column_val>split_val]\n",
    "\n",
    "    return data_belw, data_above"
   ]
  },
  {
   "cell_type": "markdown",
   "metadata": {},
   "source": [
    "###### Calculate Entropy"
   ]
  },
  {
   "cell_type": "code",
   "execution_count": 19,
   "metadata": {},
   "outputs": [],
   "source": [
    "def cal_entropy(data):\n",
    "    lbl_col=data[:,-1]\n",
    "    _,counts=np.unique(lbl_col,return_counts=True)\n",
    "\n",
    "    pblty=counts/counts.sum()\n",
    "    entropy = sum(pblty*-np.log2(pblty))\n",
    "    return entropy"
   ]
  },
  {
   "cell_type": "markdown",
   "metadata": {},
   "source": [
    "###### Calculate Total Entropy"
   ]
  },
  {
   "cell_type": "code",
   "execution_count": 20,
   "metadata": {},
   "outputs": [],
   "source": [
    "def cal_total_entropy(data_blw,data_abv):\n",
    "\n",
    "    total_len_datapoints=len(data_blw)+len(data_abv)\n",
    "    prob_data_blw=len(data_blw)/total_len_datapoints\n",
    "    prob_data_abv=len(data_abv)/total_len_datapoints\n",
    "    entrpy_data_blw=cal_entropy(data_blw)\n",
    "    entrpy_data_abv=cal_entropy(data_abv)\n",
    "    total_entropy=(prob_data_blw*entrpy_data_blw + prob_data_abv*entrpy_data_abv)\n",
    "    return total_entropy"
   ]
  },
  {
   "cell_type": "markdown",
   "metadata": {},
   "source": [
    "###### Find Best Split"
   ]
  },
  {
   "cell_type": "code",
   "execution_count": 21,
   "metadata": {},
   "outputs": [],
   "source": [
    "def find_best_split(data, pot_split):\n",
    "    \n",
    "    total_entropy=999\n",
    "    for clmn_indx in pot_split:\n",
    "        for val in pot_split[clmn_indx]:\n",
    "            data_blw,data_abv=split_data(data,split_clmn=clmn_indx,split_val=val)\n",
    "            entropy=cal_total_entropy(data_blw,data_abv)\n",
    "            \n",
    "            if(entropy<=total_entropy):\n",
    "                total_entropy=entropy\n",
    "                bst_splt_column=clmn_indx\n",
    "                bst_splt_value=val        \n",
    "    \n",
    "    \n",
    "    return bst_splt_column,bst_splt_value"
   ]
  },
  {
   "cell_type": "markdown",
   "metadata": {},
   "source": [
    "###### Decision Tree Algorithm Function"
   ]
  },
  {
   "cell_type": "code",
   "execution_count": 22,
   "metadata": {},
   "outputs": [],
   "source": [
    "def dTree_algorithm(data_frame,count=0,min_instaance_req=2,maximum_depth=5):\n",
    "    \n",
    "    #Preparing Data\n",
    "    if count==0:\n",
    "        global COL_HEADER\n",
    "        COL_HEADER=data_frame.columns\n",
    "        data=data_frame.values\n",
    "        \n",
    "    else:\n",
    "        data=data_frame\n",
    "        \n",
    "    #Stopping Condition\n",
    "    if (check_ifpure(data) or (len(data)<min_instaance_req) or (count == maximum_depth)):\n",
    "        class_of_data=claasify_data(data)\n",
    "        return class_of_data\n",
    "    \n",
    "    #Recurssion\n",
    "    else:\n",
    "        count+=1\n",
    "        #Getting potential split\n",
    "        possible_splt=get_appropriate_splt(data)\n",
    "#         print(possible_splt)\n",
    "        #Determining split column and value\n",
    "        splt_colmn,splt_val=find_best_split(data,possible_splt)\n",
    "#         print(splt_colmn,splt_val)\n",
    "        #Determine data above and below\n",
    "        data_blw,data_abv=split_data(data,splt_colmn,splt_val)\n",
    "#         print(data_blw,\"***\",data_abv)\n",
    "        attribute_name=COL_HEADER[splt_colmn]\n",
    "        condition_quest=\"{} <= {}\".format(attribute_name,splt_val)\n",
    "        sub_dTree={condition_quest:[]}\n",
    "        \n",
    "        \n",
    "        \n",
    "        yes_class=dTree_algorithm(data_blw,count,min_instaance_req,maximum_depth)\n",
    "        no_class=dTree_algorithm(data_abv,count,min_instaance_req,maximum_depth)\n",
    "        \n",
    "        if yes_class==no_class:\n",
    "            sub_dTree=yes_class\n",
    "            \n",
    "        else:\n",
    "            sub_dTree[condition_quest].append(yes_class)\n",
    "            sub_dTree[condition_quest].append(no_class)\n",
    "              \n",
    "    return sub_dTree"
   ]
  },
  {
   "cell_type": "markdown",
   "metadata": {},
   "source": [
    "###### Bootstarpping algorithm"
   ]
  },
  {
   "cell_type": "code",
   "execution_count": null,
   "metadata": {},
   "outputs": [],
   "source": []
  },
  {
   "cell_type": "markdown",
   "metadata": {},
   "source": [
    "###### Random Forest Algorithm"
   ]
  },
  {
   "cell_type": "code",
   "execution_count": null,
   "metadata": {},
   "outputs": [],
   "source": []
  },
  {
   "cell_type": "markdown",
   "metadata": {},
   "source": [
    "###### Random Forest Predictions"
   ]
  },
  {
   "cell_type": "code",
   "execution_count": null,
   "metadata": {},
   "outputs": [],
   "source": []
  }
 ],
 "metadata": {
  "kernelspec": {
   "display_name": "Python 3",
   "language": "python",
   "name": "python3"
  },
  "language_info": {
   "codemirror_mode": {
    "name": "ipython",
    "version": 3
   },
   "file_extension": ".py",
   "mimetype": "text/x-python",
   "name": "python",
   "nbconvert_exporter": "python",
   "pygments_lexer": "ipython3",
   "version": "3.7.1"
  }
 },
 "nbformat": 4,
 "nbformat_minor": 2
}
