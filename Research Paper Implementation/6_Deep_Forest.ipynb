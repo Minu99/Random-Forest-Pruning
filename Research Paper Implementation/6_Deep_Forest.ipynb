{
 "cells": [
  {
   "cell_type": "code",
   "execution_count": 8,
   "metadata": {},
   "outputs": [],
   "source": [
    "#Forest Layer\n",
    "from sklearn.base import ClassifierMixin\n",
    "from sklearn.ensemble import RandomForestClassifier,ExtraTreesClassifier,VotingClassifier\n",
    "from sklearn.model_selection import KFold\n",
    "import numpy as np\n",
    "import copy\n",
    "class deepForestLayer(ClassifierMixin):\n",
    "    \"\"\"A Really hacky and WIP implementation of the layers required for a Cascade Forest\"\"\"\n",
    "    def __init__(self, n_nodes, nClasses=1,output=False):\n",
    "        self.output=output\n",
    "        self.nClasses = nClasses\n",
    "        self.n_nodes= n_nodes\n",
    "        nrfs = int(n_nodes/2)\n",
    "        nefs = n_nodes - nrfs\n",
    "        self.estimators = []\n",
    "        self.final_voters = []\n",
    "        for i in range(nefs):\n",
    "            self.estimators.append(('ET'+str(i),ExtraTreesClassifier(n_estimators=1000,min_samples_leaf=10, n_jobs=-1)))\n",
    "            \n",
    "        for i in range(nrfs):\n",
    "            self.estimators.append(('RF'+str(i),RandomForestClassifier(n_estimators=1000,min_samples_leaf=10,n_jobs=-1)))\n",
    "        self.voter = VotingClassifier(estimators=self.estimators, voting='soft')\n",
    "\n",
    "    def fit_Kfold(self,X_train, X_test,y_train, y_test):\n",
    "        \"\"\"This function implements the growing and validation to determine number of layers required\"\"\"\n",
    "        \n",
    "        fold = KFold() # 3-Fold CV\n",
    "        train_preds = np.empty((3,X_train.shape[0],self.nClasses*self.n_nodes))\n",
    "        train_preds[:] = np.nan\n",
    "        est_preds = np.empty((3,X_test.shape[0],self.nClasses*self.n_nodes))\n",
    "        est_preds[:] = np.nan\n",
    "        i=0\n",
    "        for train_idx, test_idx in fold.split(X_train):\n",
    "            self.voter.fit(X_train[train_idx],y_train[train_idx]) #Fit each of the estimators to our data\n",
    "            \n",
    "            #voter.transform has shape number of estimators (4 in this case) x no of samples x number of classes.\n",
    "            #Insample is the transform output reshaped to have shape no of samples x number of classes*number of estimators\n",
    "            insample = self.voter.transform(X_train[train_idx]).swapaxes(0,1).reshape((X_train[train_idx].shape[0],-1))\n",
    "            outsample = self.voter.transform(X_test).swapaxes(0,1).reshape((X_test.shape[0],-1))\n",
    "            #Insample is the training error, outsample is the validation error.\n",
    "            \n",
    "            train_preds[i,train_idx] = insample.copy()\n",
    "            est_preds[i] = outsample.copy()\n",
    "            \n",
    "            i+=1\n",
    "        #As I used KFold, train_preds and est_preds have two valid entries and one nan entry per data point\n",
    "        #average this dimension so we get one probability prediction per data point\n",
    "        return np.nanmean(train_preds,axis=0),np.nanmean(est_preds,axis=0)\n",
    "        \n",
    "    def fit(self, X,y):\n",
    "        \"\"\"This function does a full fit once the number of layers has been decided\"\"\"\n",
    "        fold = KFold()\n",
    "        #Create 3 models, each fitted on a fold of the data.\n",
    "        #This is only way I can think of getting required output at prediction stage.\n",
    "        for train_idx, test_idx in fold.split(X):\n",
    "            clf=VotingClassifier(estimators=copy.deepcopy(self.estimators), voting='soft')\n",
    "            clf.fit(X[train_idx], y[train_idx])\n",
    "            self.final_voters.append(clf)\n",
    "        \n",
    "    def predict(self, X):\n",
    "        \"\"\"Make predictions, using models fitted by KFold\"\"\"\n",
    "        preds = np.zeros((len(self.final_voters),X.shape[0],self.nClasses))\n",
    "        for i in range(len(self.final_voters)):\n",
    "            preds[i]=self.final_voters[i].predict_proba(X)\n",
    "        return np.mean(preds,axis=0)\n",
    "        \n",
    "    "
   ]
  },
  {
   "cell_type": "code",
   "execution_count": 17,
   "metadata": {},
   "outputs": [],
   "source": [
    "#DeepForest\n",
    "import numpy as np\n",
    "from sklearn.base import ClassifierMixin, BaseEstimator\n",
    "from sklearn.model_selection import train_test_split\n",
    "# from forestlayer import deepForestLayer\n",
    "from sklearn.metrics import accuracy_score\n",
    "\n",
    "class DeepForest(ClassifierMixin,BaseEstimator):\n",
    "    def __init__(self, width=4):\n",
    "        self.width= width\n",
    "        self.layers=[]\n",
    "        self.layerScores=[]\n",
    "\n",
    "    def fit(self, X,y):\n",
    "        \n",
    "        X_train, X_test, y_train, y_test = train_test_split(X, y, test_size=0.20)\n",
    "        n=len(np.unique(y))\n",
    "        last_score = -np.inf\n",
    "        previous_est =  np.empty((X_test.shape[0],0))\n",
    "        previous_pred = np.empty((X_train.shape[0],0))\n",
    "        i=1\n",
    "        while True:\n",
    "            print (\"layer \"+str(i))\n",
    "            layer = deepForestLayer(4,nClasses=n)\n",
    "            pred, est = layer.fit_Kfold(np.concatenate([X_train,previous_pred],axis=1), np.concatenate([X_test,previous_est],axis=1), y_train,y_test)\n",
    "            yest = np.argmax(np.mean(est.reshape((X_test.shape[0],-1, n)).swapaxes(0,1),axis=0),axis=1)\n",
    "            score = accuracy_score(y_test, yest)\n",
    "            print (score)\n",
    "            if score<=last_score:\n",
    "                break\n",
    "            last_score=score\n",
    "            previous_est=est\n",
    "            previous_pred=pred\n",
    "            i+=1\n",
    "        print (\"Selected \"+str(i-1)+\" layers\")\n",
    "        self.full_fit(X,y,i-1)\n",
    "        \n",
    "    def full_fit(self, X,y, layers):\n",
    "         n=len(np.unique(y))\n",
    "         previous_pred = np.empty((X.shape[0],0))\n",
    "         for l in range(layers):\n",
    "             layer = deepForestLayer(4, nClasses=n)\n",
    "             newX = np.concatenate([X,previous_pred],axis=1)\n",
    "             layer.fit(newX,y)\n",
    "             previous_pred = layer.predict(newX)\n",
    "             self.layers.append(layer)\n",
    "         print (\"fitted!!\")\n",
    "             \n",
    "    def predict(self, X):\n",
    "        previous_pred = np.empty((X.shape[0],0))\n",
    "        for layer in self.layers:\n",
    "            newX = np.concatenate([X,previous_pred],axis=1)\n",
    "            previous_pred = layer.predict(newX)\n",
    "        return np.argmax(previous_pred,1)\n",
    "            \n",
    "            \n",
    "    "
   ]
  },
  {
   "cell_type": "code",
   "execution_count": 18,
   "metadata": {},
   "outputs": [
    {
     "name": "stdout",
     "output_type": "stream",
     "text": [
      "layer 1\n"
     ]
    },
    {
     "name": "stderr",
     "output_type": "stream",
     "text": [
      "C:\\Users\\Petrofac\\Anaconda3\\lib\\site-packages\\sklearn\\model_selection\\_split.py:426: FutureWarning: You should specify a value for 'n_splits' instead of relying on the default value. The default value will change from 3 to 5 in version 0.22.\n",
      "  warnings.warn(NSPLIT_WARNING, FutureWarning)\n",
      "C:\\Users\\Petrofac\\Anaconda3\\lib\\site-packages\\sklearn\\ensemble\\voting_classifier.py:307: DeprecationWarning: 'flatten_transform' default value will be changed to True in 0.21. To silence this warning you may explicitly set flatten_transform=False.\n",
      "  DeprecationWarning)\n",
      "C:\\Users\\Petrofac\\Anaconda3\\lib\\site-packages\\sklearn\\ensemble\\voting_classifier.py:307: DeprecationWarning: 'flatten_transform' default value will be changed to True in 0.21. To silence this warning you may explicitly set flatten_transform=False.\n",
      "  DeprecationWarning)\n",
      "C:\\Users\\Petrofac\\Anaconda3\\lib\\site-packages\\sklearn\\ensemble\\voting_classifier.py:307: DeprecationWarning: 'flatten_transform' default value will be changed to True in 0.21. To silence this warning you may explicitly set flatten_transform=False.\n",
      "  DeprecationWarning)\n",
      "C:\\Users\\Petrofac\\Anaconda3\\lib\\site-packages\\sklearn\\ensemble\\voting_classifier.py:307: DeprecationWarning: 'flatten_transform' default value will be changed to True in 0.21. To silence this warning you may explicitly set flatten_transform=False.\n",
      "  DeprecationWarning)\n",
      "C:\\Users\\Petrofac\\Anaconda3\\lib\\site-packages\\sklearn\\ensemble\\voting_classifier.py:307: DeprecationWarning: 'flatten_transform' default value will be changed to True in 0.21. To silence this warning you may explicitly set flatten_transform=False.\n",
      "  DeprecationWarning)\n",
      "C:\\Users\\Petrofac\\Anaconda3\\lib\\site-packages\\sklearn\\ensemble\\voting_classifier.py:307: DeprecationWarning: 'flatten_transform' default value will be changed to True in 0.21. To silence this warning you may explicitly set flatten_transform=False.\n",
      "  DeprecationWarning)\n",
      "C:\\Users\\Petrofac\\Anaconda3\\lib\\site-packages\\sklearn\\model_selection\\_split.py:426: FutureWarning: You should specify a value for 'n_splits' instead of relying on the default value. The default value will change from 3 to 5 in version 0.22.\n",
      "  warnings.warn(NSPLIT_WARNING, FutureWarning)\n"
     ]
    },
    {
     "name": "stdout",
     "output_type": "stream",
     "text": [
      "0.9409722222222222\n",
      "layer 2\n"
     ]
    },
    {
     "name": "stderr",
     "output_type": "stream",
     "text": [
      "C:\\Users\\Petrofac\\Anaconda3\\lib\\site-packages\\sklearn\\ensemble\\voting_classifier.py:307: DeprecationWarning: 'flatten_transform' default value will be changed to True in 0.21. To silence this warning you may explicitly set flatten_transform=False.\n",
      "  DeprecationWarning)\n",
      "C:\\Users\\Petrofac\\Anaconda3\\lib\\site-packages\\sklearn\\ensemble\\voting_classifier.py:307: DeprecationWarning: 'flatten_transform' default value will be changed to True in 0.21. To silence this warning you may explicitly set flatten_transform=False.\n",
      "  DeprecationWarning)\n",
      "C:\\Users\\Petrofac\\Anaconda3\\lib\\site-packages\\sklearn\\ensemble\\voting_classifier.py:307: DeprecationWarning: 'flatten_transform' default value will be changed to True in 0.21. To silence this warning you may explicitly set flatten_transform=False.\n",
      "  DeprecationWarning)\n",
      "C:\\Users\\Petrofac\\Anaconda3\\lib\\site-packages\\sklearn\\ensemble\\voting_classifier.py:307: DeprecationWarning: 'flatten_transform' default value will be changed to True in 0.21. To silence this warning you may explicitly set flatten_transform=False.\n",
      "  DeprecationWarning)\n",
      "C:\\Users\\Petrofac\\Anaconda3\\lib\\site-packages\\sklearn\\ensemble\\voting_classifier.py:307: DeprecationWarning: 'flatten_transform' default value will be changed to True in 0.21. To silence this warning you may explicitly set flatten_transform=False.\n",
      "  DeprecationWarning)\n",
      "C:\\Users\\Petrofac\\Anaconda3\\lib\\site-packages\\sklearn\\ensemble\\voting_classifier.py:307: DeprecationWarning: 'flatten_transform' default value will be changed to True in 0.21. To silence this warning you may explicitly set flatten_transform=False.\n",
      "  DeprecationWarning)\n",
      "C:\\Users\\Petrofac\\Anaconda3\\lib\\site-packages\\sklearn\\model_selection\\_split.py:426: FutureWarning: You should specify a value for 'n_splits' instead of relying on the default value. The default value will change from 3 to 5 in version 0.22.\n",
      "  warnings.warn(NSPLIT_WARNING, FutureWarning)\n"
     ]
    },
    {
     "name": "stdout",
     "output_type": "stream",
     "text": [
      "0.9548611111111112\n",
      "layer 3\n"
     ]
    },
    {
     "name": "stderr",
     "output_type": "stream",
     "text": [
      "C:\\Users\\Petrofac\\Anaconda3\\lib\\site-packages\\sklearn\\ensemble\\voting_classifier.py:307: DeprecationWarning: 'flatten_transform' default value will be changed to True in 0.21. To silence this warning you may explicitly set flatten_transform=False.\n",
      "  DeprecationWarning)\n",
      "C:\\Users\\Petrofac\\Anaconda3\\lib\\site-packages\\sklearn\\ensemble\\voting_classifier.py:307: DeprecationWarning: 'flatten_transform' default value will be changed to True in 0.21. To silence this warning you may explicitly set flatten_transform=False.\n",
      "  DeprecationWarning)\n",
      "C:\\Users\\Petrofac\\Anaconda3\\lib\\site-packages\\sklearn\\ensemble\\voting_classifier.py:307: DeprecationWarning: 'flatten_transform' default value will be changed to True in 0.21. To silence this warning you may explicitly set flatten_transform=False.\n",
      "  DeprecationWarning)\n",
      "C:\\Users\\Petrofac\\Anaconda3\\lib\\site-packages\\sklearn\\ensemble\\voting_classifier.py:307: DeprecationWarning: 'flatten_transform' default value will be changed to True in 0.21. To silence this warning you may explicitly set flatten_transform=False.\n",
      "  DeprecationWarning)\n",
      "C:\\Users\\Petrofac\\Anaconda3\\lib\\site-packages\\sklearn\\ensemble\\voting_classifier.py:307: DeprecationWarning: 'flatten_transform' default value will be changed to True in 0.21. To silence this warning you may explicitly set flatten_transform=False.\n",
      "  DeprecationWarning)\n",
      "C:\\Users\\Petrofac\\Anaconda3\\lib\\site-packages\\sklearn\\ensemble\\voting_classifier.py:307: DeprecationWarning: 'flatten_transform' default value will be changed to True in 0.21. To silence this warning you may explicitly set flatten_transform=False.\n",
      "  DeprecationWarning)\n",
      "C:\\Users\\Petrofac\\Anaconda3\\lib\\site-packages\\sklearn\\model_selection\\_split.py:426: FutureWarning: You should specify a value for 'n_splits' instead of relying on the default value. The default value will change from 3 to 5 in version 0.22.\n",
      "  warnings.warn(NSPLIT_WARNING, FutureWarning)\n"
     ]
    },
    {
     "name": "stdout",
     "output_type": "stream",
     "text": [
      "0.9548611111111112\n",
      "Selected 2 layers\n"
     ]
    },
    {
     "name": "stderr",
     "output_type": "stream",
     "text": [
      "C:\\Users\\Petrofac\\Anaconda3\\lib\\site-packages\\sklearn\\model_selection\\_split.py:426: FutureWarning: You should specify a value for 'n_splits' instead of relying on the default value. The default value will change from 3 to 5 in version 0.22.\n",
      "  warnings.warn(NSPLIT_WARNING, FutureWarning)\n"
     ]
    },
    {
     "name": "stdout",
     "output_type": "stream",
     "text": [
      "fitted!!\n"
     ]
    },
    {
     "name": "stderr",
     "output_type": "stream",
     "text": [
      "C:\\Users\\Petrofac\\Anaconda3\\lib\\site-packages\\sklearn\\model_selection\\_split.py:2053: FutureWarning: You should specify a value for 'cv' instead of relying on the default value. The default value will change from 3 to 5 in version 0.22.\n",
      "  warnings.warn(CV_WARNING, FutureWarning)\n"
     ]
    },
    {
     "name": "stdout",
     "output_type": "stream",
     "text": [
      "Deep Forest: 0.95\n",
      "RF:  0.9777777777777777\n"
     ]
    }
   ],
   "source": [
    "#!/usr/bin/env python2\n",
    "# -*- coding: utf-8 -*-\n",
    "\"\"\"\n",
    "Created on Wed Mar 15 22:37:57 2017\n",
    "\n",
    "@author: chris\n",
    "\"\"\"\n",
    "\n",
    "from sklearn.model_selection import GridSearchCV\n",
    "from sklearn.datasets import load_digits\n",
    "from sklearn.ensemble import RandomForestClassifier\n",
    "from sklearn.model_selection import train_test_split\n",
    "from sklearn.metrics import accuracy_score\n",
    "# from deepforest import DeepForest\n",
    "\n",
    "X,y = load_digits(return_X_y=True)\n",
    "X_train, X_test, y_train, y_test = train_test_split(X, y, test_size=0.20)\n",
    "\n",
    "df = DeepForest()\n",
    "df.fit(X_train, y_train)\n",
    "\n",
    "base = RandomForestClassifier()\n",
    "gs = GridSearchCV(base, {'n_estimators':[2000]})\n",
    "gs.fit(X_train, y_train)\n",
    "\n",
    "\n",
    "mypred= df.predict(X_test)\n",
    "print (\"Deep Forest:\",accuracy_score(y_test, mypred))\n",
    "print (\"RF: \",accuracy_score(y_test, gs.predict(X_test)))\n",
    "\n"
   ]
  },
  {
   "cell_type": "code",
   "execution_count": null,
   "metadata": {},
   "outputs": [],
   "source": []
  }
 ],
 "metadata": {
  "kernelspec": {
   "display_name": "Python 3",
   "language": "python",
   "name": "python3"
  },
  "language_info": {
   "codemirror_mode": {
    "name": "ipython",
    "version": 3
   },
   "file_extension": ".py",
   "mimetype": "text/x-python",
   "name": "python",
   "nbconvert_exporter": "python",
   "pygments_lexer": "ipython3",
   "version": "3.7.1"
  }
 },
 "nbformat": 4,
 "nbformat_minor": 2
}
