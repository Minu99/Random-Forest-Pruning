{
 "cells": [
  {
   "cell_type": "markdown",
   "metadata": {},
   "source": [
    "###### Import Statement"
   ]
  },
  {
   "cell_type": "code",
   "execution_count": 37,
   "metadata": {},
   "outputs": [],
   "source": [
    "import pandas as pd\n",
    "import numpy as np\n",
    "import matplotlib.pyplot as plt\n",
    "import pydot\n",
    "import copy\n",
    "import random\n",
    "from random import randrange\n",
    "from sklearn.preprocessing import StandardScaler\n",
    "from sklearn.model_selection import train_test_split\n",
    "from sklearn.ensemble import RandomForestClassifier\n",
    "from sklearn.metrics import accuracy_score\n",
    "from sklearn.model_selection import cross_val_score,KFold\n",
    "from sklearn.tree import export_graphviz\n",
    "from sklearn.preprocessing import LabelEncoder\n",
    "from scipy import misc\n",
    "from collections import OrderedDict\n",
    "from operator import itemgetter\n",
    "%matplotlib inline\n"
   ]
  },
  {
   "cell_type": "markdown",
   "metadata": {},
   "source": [
    "###### Preprocessing"
   ]
  },
  {
   "cell_type": "code",
   "execution_count": 38,
   "metadata": {},
   "outputs": [],
   "source": [
    "#Titanic Dataset\n",
    "#https://www.kaggle.com/c/titanic/data\n",
    "def get_titanic_data():\n",
    "    df_titanic=pd.read_csv('titanic.csv',)\n",
    "    #Remove unnecessary columns (body= Body Indentification number, Name= Name)\n",
    "    df_titanic.drop(['name','body'],1,inplace=True)\n",
    "    #Fill all the na  \n",
    "    df_titanic.cabin.fillna('unknown',inplace=True)\n",
    "    df_titanic.age.fillna(df_titanic['age'].mean(),inplace=True)\n",
    "    df_titanic.fillna(0,inplace=True)\n",
    "    #Covert nonnumeric value into numeric\n",
    "    df_titanic['sex'] = LabelEncoder().fit_transform(df_titanic['sex'])\n",
    "    df_titanic['cabin'] = LabelEncoder().fit_transform(df_titanic['cabin'].astype(str))\n",
    "    df_titanic['embarked'] = LabelEncoder().fit_transform(df_titanic['embarked'].astype(str))\n",
    "    df_titanic['home.dest'] = LabelEncoder().fit_transform(df_titanic['home.dest'].astype(str))\n",
    "    df_titanic['ticket'] = LabelEncoder().fit_transform(df_titanic['ticket'])\n",
    "    df_titanic['boat'] = LabelEncoder().fit_transform(df_titanic['boat'].astype(str))\n",
    "    # df_titanic.head()\n",
    "    # df_titanic.dtypes\n",
    "    # print(df_titanic.isnull().sum())\n",
    "    y = df_titanic['pclass']\n",
    "    X = df_titanic.drop(\"pclass\", axis = 1)\n",
    "    return X,y"
   ]
  },
  {
   "cell_type": "markdown",
   "metadata": {},
   "source": [
    "###### Train_Test_Spliting"
   ]
  },
  {
   "cell_type": "code",
   "execution_count": 39,
   "metadata": {},
   "outputs": [],
   "source": [
    "#To split the dataset into 3 parts\n",
    "def data_split(X_Data,y_Target):   \n",
    "    X_train, X_test, y_train, y_test= train_test_split(X_Data, y_Target, test_size=0.4)\n",
    "    X_train, X_val, y_train, y_val= train_test_split(X_train, y_train, test_size=0.5)\n",
    "    return X_train,X_val,X_test,y_train,y_val,y_test"
   ]
  },
  {
   "cell_type": "code",
   "execution_count": 40,
   "metadata": {},
   "outputs": [],
   "source": [
    "X,y=get_titanic_data()\n",
    "X_train,X_val,X_test,y_train,y_val,y_test=data_split(X,y)"
   ]
  },
  {
   "cell_type": "markdown",
   "metadata": {},
   "source": [
    "###### Methods and submethods declaration for genetic algorithm optimization"
   ]
  },
  {
   "cell_type": "code",
   "execution_count": 41,
   "metadata": {},
   "outputs": [],
   "source": [
    "#Method used to split the initial random forest into random forest vector population\n",
    "def partition_gene_to_chromosome(listin, n):\n",
    "    random.shuffle(listin)\n",
    "    return [listin[i::n] for i in range(n)]"
   ]
  },
  {
   "cell_type": "code",
   "execution_count": 42,
   "metadata": {},
   "outputs": [],
   "source": [
    "#Function to determin the best fit parents\n",
    "def call_population_fitness(randomForest_population):\n",
    "    print(len(randomForest_population))\n",
    "    fitnesslist=[]\n",
    "    for rf in randomForest_population:\n",
    "        fitness=rf.score(X_val,y_val)\n",
    "        fitnesslist.append(fitness)\n",
    "    fitness_matrix = { i : fitnesslist[i] for i in range(0, len(fitnesslist) ) }\n",
    "    return fitness_matrix"
   ]
  },
  {
   "cell_type": "code",
   "execution_count": 43,
   "metadata": {},
   "outputs": [],
   "source": [
    "#Fuction to select the parent population\n",
    "def call_population_selection(fitness_matrix,randomForest_population,parents_number):\n",
    "    fitness_ordered=sorted(fitness_matrix.items(), key=itemgetter(1),reverse=True)\n",
    "    selected_chromRF_Index=list(list(zip(*fitness_ordered))[0])[:parents_number]\n",
    "    print(selected_chromRF_Index)\n",
    "    selected_rf_population=[randomForest_population[i] for i in selected_chromRF_Index]\n",
    "    return selected_rf_population"
   ]
  },
  {
   "cell_type": "code",
   "execution_count": 53,
   "metadata": {},
   "outputs": [],
   "source": [
    "#Sub Function for cross over\n",
    "def get_offcross_spring(rf_chromosome1,rf_chromosome2,cross_over_point):\n",
    "    rf_chromosome1.estimators_=rf_chromosome1.estimators_[0:cross_over_point]\n",
    "    rf_chromosome2.estimators_=rf_chromosome2.estimators_[cross_over_point:]\n",
    "    modified_estimators=rf_chromosome1.estimators_+rf_chromosome2.estimators_\n",
    "    rf_chromosome1.estimators_=modified_estimators\n",
    "    print(rf_chromosome1.estimators_)\n",
    "    return rf_chromosome1"
   ]
  },
  {
   "cell_type": "code",
   "execution_count": 54,
   "metadata": {},
   "outputs": [],
   "source": [
    "# Main Crossover Function\n",
    "def call_crossover_generation(selected_rf_population,crossover_per_gen):\n",
    "    offsprings_gen = []\n",
    "    # The crossoverpoint\n",
    "    cross_over_point = np.uint8(len(selected_rf_population[1])/2)   \n",
    "    for k in range(int(crossover_per_gen)):\n",
    "        # Crossoverindex of the first parent\n",
    "        parent1_index = k % len(selected_rf_population)\n",
    "        # Crossoverindex of the seconf parent\n",
    "        parent2_index = (k+1) % len(selected_rf_population)\n",
    "        offspring=get_offcross_spring(selected_rf_population[parent1_index],selected_rf_population[parent1_index],cross_over_point)\n",
    "        offsprings_gen.append(offspring)\n",
    "    return offsprings_gen"
   ]
  },
  {
   "cell_type": "code",
   "execution_count": 55,
   "metadata": {},
   "outputs": [],
   "source": [
    "# Method to get the mutated chromosomes\n",
    "def get_mutation_gen(randomForest,selected_rf_population,mutation_per_gen):\n",
    "    offsprings_gen = []\n",
    "    rf_for_mutation=[]\n",
    "    for k in range(int(mutation_per_gen)):  \n",
    "        # Randomly choose a chromosome for mutation.\n",
    "        parent1_index = k % len(selected_rf_population)\n",
    "        rf_for_mutation=random.choice(selected_rf_population)\n",
    "        #Randomly choose one of the gene for mutation\n",
    "        gene_for_mutation = random.choice(rf_for_mutation.estimators_)\n",
    "        rf_for_mutation.estimators_.remove(gene_for_mutation)\n",
    "        slctimpurity_df=random.choice(randomForest)\n",
    "        rf_for_mutation.estimators_.append(slctimpurity_df)\n",
    "        offsprings_gen.append(rf_for_mutation)\n",
    "    return offsprings_gen"
   ]
  },
  {
   "cell_type": "code",
   "execution_count": 56,
   "metadata": {},
   "outputs": [
    {
     "name": "stdout",
     "output_type": "stream",
     "text": [
      "90.0\n"
     ]
    },
    {
     "data": {
      "text/plain": [
       "RandomForestClassifier(bootstrap=True, class_weight=None, criterion='gini',\n",
       "            max_depth=None, max_features=3, max_leaf_nodes=None,\n",
       "            min_impurity_decrease=0.0, min_impurity_split=None,\n",
       "            min_samples_leaf=1, min_samples_split=2,\n",
       "            min_weight_fraction_leaf=0.0, n_estimators=1000, n_jobs=None,\n",
       "            oob_score=False, random_state=None, verbose=0,\n",
       "            warm_start=False)"
      ]
     },
     "execution_count": 56,
     "metadata": {},
     "output_type": "execute_result"
    }
   ],
   "source": [
    "M,N=X.shape\n",
    "F=int(N**(1/2))\n",
    "\n",
    "#Total number of decision trees all random forest\n",
    "initial_population=1000\n",
    "initial_population_list=list(range(0,initial_population))\n",
    "\n",
    "#Total number of chromosome(No of sub random forest for genetic algorithm)\n",
    "n=100\n",
    "cross_over_rate=0.9\n",
    "mutation_rate=0.1\n",
    "number_of_gen=100\n",
    "crossover_per_gen=(cross_over_rate*n)\n",
    "mutation_per_gen=(mutation_rate*n)\n",
    "print(crossover_per_gen)\n",
    "\n",
    "#Number of parents for next generation\n",
    "parents_number=50\n",
    "\n",
    "# Random forest model \n",
    "# Generating first population of raandom forest\n",
    "randomForest = RandomForestClassifier(n_estimators=initial_population,max_features=F)\n",
    "randomForest.fit(X_train,y_train)"
   ]
  },
  {
   "cell_type": "code",
   "execution_count": 57,
   "metadata": {},
   "outputs": [],
   "source": [
    "sub_forest_chromosome=partition_gene_to_chromosome(initial_population_list,n)"
   ]
  },
  {
   "cell_type": "code",
   "execution_count": 58,
   "metadata": {},
   "outputs": [],
   "source": [
    "#List of initial population (chromosomes)\n",
    "randomForest_population=[]\n",
    "for chrom in range(n):\n",
    "    rf_classifier=RandomForestClassifier(n_estimators=len(sub_forest_chromosome[chrom]))\n",
    "    rf_classifier.estimators_=[]\n",
    "    for gene in sub_forest_chromosome[chrom]:\n",
    "        rf_classifier.estimators_.append(randomForest.estimators_[(gene-1)])    \n",
    "    rf_classifier.classes_=randomForest.classes_\n",
    "    rf_classifier.n_classes_=randomForest.n_classes_\n",
    "    rf_classifier.n_outputs_=randomForest.n_outputs_ \n",
    "    randomForest_population.append(rf_classifier)"
   ]
  },
  {
   "cell_type": "code",
   "execution_count": 59,
   "metadata": {},
   "outputs": [
    {
     "name": "stdout",
     "output_type": "stream",
     "text": [
      "Generation Number:  0\n",
      "100\n",
      "[17, 25, 44, 74, 0, 6, 16, 35, 50, 68, 2, 27, 31, 52, 62, 69, 73, 92, 1, 5, 12, 40, 58, 59, 70, 97, 98, 14, 33, 51, 77, 78, 83, 85, 86, 90, 94, 99, 4, 10, 13, 19, 21, 30, 34, 60, 66, 76, 80, 91]\n",
      "[]\n",
      "[]\n",
      "[]\n",
      "[]\n",
      "[]\n",
      "[]\n",
      "[]\n",
      "[]\n",
      "[]\n",
      "[]\n",
      "[]\n",
      "[]\n",
      "[]\n",
      "[]\n",
      "[]\n",
      "[]\n",
      "[]\n",
      "[]\n",
      "[]\n",
      "[]\n",
      "[]\n",
      "[]\n",
      "[]\n",
      "[]\n",
      "[]\n",
      "[]\n",
      "[]\n",
      "[]\n",
      "[]\n",
      "[]\n",
      "[]\n",
      "[]\n",
      "[]\n",
      "[]\n",
      "[]\n",
      "[]\n",
      "[]\n",
      "[]\n",
      "[]\n",
      "[]\n",
      "[]\n",
      "[]\n",
      "[]\n",
      "[]\n",
      "[]\n",
      "[]\n",
      "[]\n",
      "[]\n",
      "[]\n",
      "[]\n",
      "[]\n",
      "[]\n",
      "[]\n",
      "[]\n",
      "[]\n",
      "[]\n",
      "[]\n",
      "[]\n",
      "[]\n",
      "[]\n",
      "[]\n",
      "[]\n",
      "[]\n",
      "[]\n",
      "[]\n",
      "[]\n",
      "[]\n",
      "[]\n",
      "[]\n",
      "[]\n",
      "[]\n",
      "[]\n",
      "[]\n",
      "[]\n",
      "[]\n",
      "[]\n",
      "[]\n",
      "[]\n",
      "[]\n",
      "[]\n",
      "[]\n",
      "[]\n",
      "[]\n",
      "[]\n",
      "[]\n",
      "[]\n",
      "[]\n",
      "[]\n",
      "[]\n",
      "[]\n",
      "0\n",
      "Generation Number:  1\n",
      "2\n"
     ]
    },
    {
     "ename": "AttributeError",
     "evalue": "'list' object has no attribute 'score'",
     "output_type": "error",
     "traceback": [
      "\u001b[1;31m---------------------------------------------------------------------------\u001b[0m",
      "\u001b[1;31mAttributeError\u001b[0m                            Traceback (most recent call last)",
      "\u001b[1;32m<ipython-input-59-0c1b362f65f6>\u001b[0m in \u001b[0;36m<module>\u001b[1;34m\u001b[0m\n\u001b[0;32m      2\u001b[0m     \u001b[0mprint\u001b[0m\u001b[1;33m(\u001b[0m\u001b[1;34m\"Generation Number: \"\u001b[0m\u001b[1;33m,\u001b[0m \u001b[0mgen\u001b[0m\u001b[1;33m)\u001b[0m\u001b[1;33m\u001b[0m\u001b[1;33m\u001b[0m\u001b[0m\n\u001b[0;32m      3\u001b[0m     \u001b[1;31m# To measure the fitness of each chromosome\u001b[0m\u001b[1;33m\u001b[0m\u001b[1;33m\u001b[0m\u001b[1;33m\u001b[0m\u001b[0m\n\u001b[1;32m----> 4\u001b[1;33m     \u001b[0mfitness_matrix\u001b[0m\u001b[1;33m=\u001b[0m\u001b[0mcall_population_fitness\u001b[0m\u001b[1;33m(\u001b[0m\u001b[0mrandomForest_population\u001b[0m\u001b[1;33m)\u001b[0m\u001b[1;33m\u001b[0m\u001b[1;33m\u001b[0m\u001b[0m\n\u001b[0m\u001b[0;32m      5\u001b[0m \u001b[1;33m\u001b[0m\u001b[0m\n\u001b[0;32m      6\u001b[0m     \u001b[1;31m# To select the best parents for next generation\u001b[0m\u001b[1;33m\u001b[0m\u001b[1;33m\u001b[0m\u001b[1;33m\u001b[0m\u001b[0m\n",
      "\u001b[1;32m<ipython-input-42-92492c09f7da>\u001b[0m in \u001b[0;36mcall_population_fitness\u001b[1;34m(randomForest_population)\u001b[0m\n\u001b[0;32m      4\u001b[0m     \u001b[0mfitnesslist\u001b[0m\u001b[1;33m=\u001b[0m\u001b[1;33m[\u001b[0m\u001b[1;33m]\u001b[0m\u001b[1;33m\u001b[0m\u001b[1;33m\u001b[0m\u001b[0m\n\u001b[0;32m      5\u001b[0m     \u001b[1;32mfor\u001b[0m \u001b[0mrf\u001b[0m \u001b[1;32min\u001b[0m \u001b[0mrandomForest_population\u001b[0m\u001b[1;33m:\u001b[0m\u001b[1;33m\u001b[0m\u001b[1;33m\u001b[0m\u001b[0m\n\u001b[1;32m----> 6\u001b[1;33m         \u001b[0mfitness\u001b[0m\u001b[1;33m=\u001b[0m\u001b[0mrf\u001b[0m\u001b[1;33m.\u001b[0m\u001b[0mscore\u001b[0m\u001b[1;33m(\u001b[0m\u001b[0mX_val\u001b[0m\u001b[1;33m,\u001b[0m\u001b[0my_val\u001b[0m\u001b[1;33m)\u001b[0m\u001b[1;33m\u001b[0m\u001b[1;33m\u001b[0m\u001b[0m\n\u001b[0m\u001b[0;32m      7\u001b[0m         \u001b[0mfitnesslist\u001b[0m\u001b[1;33m.\u001b[0m\u001b[0mappend\u001b[0m\u001b[1;33m(\u001b[0m\u001b[0mfitness\u001b[0m\u001b[1;33m)\u001b[0m\u001b[1;33m\u001b[0m\u001b[1;33m\u001b[0m\u001b[0m\n\u001b[0;32m      8\u001b[0m     \u001b[0mfitness_matrix\u001b[0m \u001b[1;33m=\u001b[0m \u001b[1;33m{\u001b[0m \u001b[0mi\u001b[0m \u001b[1;33m:\u001b[0m \u001b[0mfitnesslist\u001b[0m\u001b[1;33m[\u001b[0m\u001b[0mi\u001b[0m\u001b[1;33m]\u001b[0m \u001b[1;32mfor\u001b[0m \u001b[0mi\u001b[0m \u001b[1;32min\u001b[0m \u001b[0mrange\u001b[0m\u001b[1;33m(\u001b[0m\u001b[1;36m0\u001b[0m\u001b[1;33m,\u001b[0m \u001b[0mlen\u001b[0m\u001b[1;33m(\u001b[0m\u001b[0mfitnesslist\u001b[0m\u001b[1;33m)\u001b[0m \u001b[1;33m)\u001b[0m \u001b[1;33m}\u001b[0m\u001b[1;33m\u001b[0m\u001b[1;33m\u001b[0m\u001b[0m\n",
      "\u001b[1;31mAttributeError\u001b[0m: 'list' object has no attribute 'score'"
     ]
    }
   ],
   "source": [
    "for gen in range(number_of_gen):\n",
    "    print(\"Generation Number: \", gen)\n",
    "    # To measure the fitness of each chromosome\n",
    "    fitness_matrix=call_population_fitness(randomForest_population)\n",
    "    \n",
    "    # To select the best parents for next generation\n",
    "    next_gen_parents = call_population_selection(fitness_matrix,randomForest_population,parents_number)\n",
    "    \n",
    "    # Crossover for generating offspring\n",
    "    crossover_offsprings = call_crossover_generation(copy.deepcopy(next_gen_parents),crossover_per_gen)\n",
    "    print(len(crossover_offsprings[1].estimators_))\n",
    "    # Mutation for the generated offspring\n",
    "    mutated_offspring = get_mutation_gen(randomForest,copy.deepcopy(next_gen_parents),mutation_per_gen)\n",
    "\n",
    "    # New population for next generation\n",
    "    next_population=[]\n",
    "    next_population.append(crossover_offsprings)\n",
    "    next_population.append(mutated_offspring)\n",
    "    randomForest_population=next_population\n"
   ]
  },
  {
   "cell_type": "code",
   "execution_count": null,
   "metadata": {},
   "outputs": [],
   "source": []
  },
  {
   "cell_type": "code",
   "execution_count": null,
   "metadata": {},
   "outputs": [],
   "source": []
  },
  {
   "cell_type": "code",
   "execution_count": null,
   "metadata": {},
   "outputs": [],
   "source": []
  }
 ],
 "metadata": {
  "kernelspec": {
   "display_name": "Python 3",
   "language": "python",
   "name": "python3"
  },
  "language_info": {
   "codemirror_mode": {
    "name": "ipython",
    "version": 3
   },
   "file_extension": ".py",
   "mimetype": "text/x-python",
   "name": "python",
   "nbconvert_exporter": "python",
   "pygments_lexer": "ipython3",
   "version": "3.7.1"
  }
 },
 "nbformat": 4,
 "nbformat_minor": 2
}
