{
 "cells": [
  {
   "cell_type": "markdown",
   "metadata": {},
   "source": [
    "###### Import Statement"
   ]
  },
  {
   "cell_type": "code",
   "execution_count": 56,
   "metadata": {},
   "outputs": [],
   "source": [
    "import pandas as pd\n",
    "import numpy as np\n",
    "import matplotlib.pyplot as plt\n",
    "import pydot\n",
    "from sklearn.preprocessing import StandardScaler\n",
    "from sklearn.model_selection import train_test_split\n",
    "from sklearn.ensemble import RandomForestClassifier\n",
    "from sklearn.metrics import accuracy_score\n",
    "from sklearn.model_selection import cross_val_score,KFold\n",
    "from sklearn.cluster import KMeans\n",
    "from sklearn.tree import export_graphviz\n",
    "from scipy import misc\n",
    "%matplotlib inline"
   ]
  },
  {
   "cell_type": "markdown",
   "metadata": {},
   "source": [
    "###### Preprocessing"
   ]
  },
  {
   "cell_type": "code",
   "execution_count": 41,
   "metadata": {},
   "outputs": [
    {
     "name": "stdout",
     "output_type": "stream",
     "text": [
      "        RI     Na    Mg    Al     Si     K    Ca   Ba   Fe  Type\n",
      "0  1.52101  13.64  4.49  1.10  71.78  0.06  8.75  0.0  0.0     1\n",
      "1  1.51761  13.89  3.60  1.36  72.73  0.48  7.83  0.0  0.0     1\n",
      "2  1.51618  13.53  3.55  1.54  72.99  0.39  7.78  0.0  0.0     1\n",
      "3  1.51766  13.21  3.69  1.29  72.61  0.57  8.22  0.0  0.0     1\n",
      "4  1.51742  13.27  3.62  1.24  73.08  0.55  8.07  0.0  0.0     1\n",
      "\n",
      "The shape of our dataset is: (214, 10)\n"
     ]
    }
   ],
   "source": [
    "#Reading dataset from the csv file\n",
    "dataset=pd.read_csv('C:/Users/Petrofac/Desktop/Dissertation/glass.csv')\n",
    "print(dataset.head())\n",
    "print('\\nThe shape of our dataset is:', dataset.shape)"
   ]
  },
  {
   "cell_type": "code",
   "execution_count": 42,
   "metadata": {},
   "outputs": [
    {
     "name": "stdout",
     "output_type": "stream",
     "text": [
      "          RI     Na    Mg    Al     Si     K     Ca    Ba    Fe  Type\n",
      "108  1.52222  14.43  0.00  1.00  72.67  0.10  11.52  0.00  0.08     2\n",
      "206  1.51645  14.94  0.00  1.87  73.11  0.00   8.67  1.38  0.00     7\n",
      "106  1.53125  10.73  0.00  2.10  69.81  0.58  13.30  3.15  0.28     2\n",
      "107  1.53393  12.30  0.00  1.00  70.16  0.12  16.19  0.00  0.24     2\n",
      "51   1.51926  13.20  3.33  1.28  72.36  0.60   9.14  0.00  0.11     1\n"
     ]
    }
   ],
   "source": [
    "#Randomozing the dataset rows\n",
    "np.random.seed(1)\n",
    "shuffled_index=np.random.permutation(dataset.index)\n",
    "dataset=dataset.loc[shuffled_index]\n",
    "print(dataset.head())"
   ]
  },
  {
   "cell_type": "code",
   "execution_count": 43,
   "metadata": {},
   "outputs": [
    {
     "data": {
      "image/png": "[encoded data removed]",
      "text/plain": [
       "<Figure size 432x288 with 1 Axes>"
      ]
     },
     "metadata": {
      "needs_background": "light"
     },
     "output_type": "display_data"
    }
   ],
   "source": [
    "#NonUniform distribution of data\n",
    "dataset['Type'].value_counts().sort_index().plot.bar()\n",
    "plt.show()"
   ]
  },
  {
   "cell_type": "code",
   "execution_count": 44,
   "metadata": {},
   "outputs": [
    {
     "name": "stdout",
     "output_type": "stream",
     "text": [
      "[2 7 2 2 1 1 1 3 1 1 2 1 2 1 3 2 2 2 3 1 1 7 2 1 3 1 2 2 1 1 5 6 1 1 1 1 3\n",
      " 3 2 1 1 7 7 1 7 1 1 1 2 7 3 2 2 2 5 2 7 1 7 7 2 2 2 2 1 7 5 1 6 1 2 1 2 3\n",
      " 2 2 1 1 1 7 7 1 5 1 7 2 1 2 2 2 2 6 7 1 6 2 7 3 5 3 2 7 7 1 7 2 7 7 1 2 2\n",
      " 1 5 7 5 2 2 7 5 7 2 1 2 5 1 2 2 3 1 6 5 2 2 1 1 2 2 3 2 3 1 1 2 2 5 2 2 1\n",
      " 2 1 6 2 5 2 2 7 1 1 1 6 2 2 1 1 2 1 1 1 6 1 3 2 7 1 2 5 2 7 1 1 2 1 1 1 1\n",
      " 1 1 7 2 2 2 1 1 2 3 3 2 3 2 1 6 1 2 2 2 2 7 2 2 7 2 2 2 1]\n"
     ]
    }
   ],
   "source": [
    "# Labels are the values we want to predict\n",
    "labels = np.array(dataset['Type'])\n",
    "print(labels)"
   ]
  },
  {
   "cell_type": "code",
   "execution_count": 45,
   "metadata": {},
   "outputs": [
    {
     "name": "stdout",
     "output_type": "stream",
     "text": [
      "          RI     Na    Mg    Al     Si     K     Ca    Ba    Fe\n",
      "108  1.52222  14.43  0.00  1.00  72.67  0.10  11.52  0.00  0.08\n",
      "206  1.51645  14.94  0.00  1.87  73.11  0.00   8.67  1.38  0.00\n",
      "106  1.53125  10.73  0.00  2.10  69.81  0.58  13.30  3.15  0.28\n",
      "107  1.53393  12.30  0.00  1.00  70.16  0.12  16.19  0.00  0.24\n",
      "51   1.51926  13.20  3.33  1.28  72.36  0.60   9.14  0.00  0.11\n",
      "108    2\n",
      "206    7\n",
      "106    2\n",
      "107    2\n",
      "51     1\n",
      "Name: Type, dtype: int64\n",
      "Index(['RI', 'Na', 'Mg', 'Al', 'Si', 'K', 'Ca', 'Ba', 'Fe'], dtype='object')\n"
     ]
    }
   ],
   "source": [
    "#Convert dataset into taarget and attribute set\n",
    "# axis 1 refers to the columns\n",
    "dataset_data= dataset.drop('Type', axis = 1)\n",
    "print(dataset_data.head())\n",
    "dataset_target=dataset['Type']\n",
    "print(dataset_target.head())\n",
    "feature_list=dataset_data.columns\n",
    "print(feature_list)"
   ]
  },
  {
   "cell_type": "code",
   "execution_count": 46,
   "metadata": {},
   "outputs": [
    {
     "name": "stdout",
     "output_type": "stream",
     "text": [
      "          RI     Na    Mg    Al     Si     K     Ca    Ba    Fe\n",
      "203  1.51658  14.80  0.00  1.99  73.11  0.00   8.28  1.71  0.00\n",
      "169  1.51994  13.27  0.00  1.76  73.03  0.47  11.32  0.00  0.00\n",
      "21   1.51966  14.77  3.75  0.29  72.02  0.03   9.00  0.00  0.00\n",
      "175  1.52119  12.97  0.33  1.51  73.39  0.13  11.27  0.00  0.28\n",
      "123  1.51707  13.48  3.48  1.71  72.52  0.62   7.99  0.00  0.00\n",
      "          RI     Na    Mg    Al     Si     K    Ca    Ba    Fe\n",
      "45   1.51900  13.49  3.48  1.35  71.95  0.55  9.00  0.00  0.00\n",
      "192  1.51623  14.20  0.00  2.79  73.46  0.04  9.04  0.40  0.09\n",
      "205  1.51732  14.95  0.00  1.80  72.99  0.00  8.61  1.55  0.00\n",
      "191  1.51602  14.85  0.00  2.38  73.28  0.00  8.76  0.64  0.09\n",
      "78   1.51613  13.92  3.52  1.25  72.88  0.37  7.94  0.00  0.14\n",
      "203    7\n",
      "169    5\n",
      "21     1\n",
      "175    5\n",
      "123    2\n",
      "Name: Type, dtype: int64\n",
      "45     1\n",
      "192    7\n",
      "205    7\n",
      "191    7\n",
      "78     2\n",
      "Name: Type, dtype: int64\n"
     ]
    }
   ],
   "source": [
    "#Splitting the dataset into training and testing\n",
    "X_train, X_test, y_train, y_test = train_test_split(dataset_data, dataset_target, test_size=0.80, random_state=1)\n",
    "print(X_train.head())\n",
    "print(X_test.head())\n",
    "print(y_train.head())\n",
    "print(y_test.head())"
   ]
  },
  {
   "cell_type": "markdown",
   "metadata": {},
   "source": [
    "###### Random Forest from sklearn "
   ]
  },
  {
   "cell_type": "code",
   "execution_count": 50,
   "metadata": {},
   "outputs": [
    {
     "data": {
      "text/plain": [
       "RandomForestClassifier(bootstrap=True, class_weight=None, criterion='gini',\n",
       "            max_depth=None, max_features='auto', max_leaf_nodes=None,\n",
       "            min_impurity_decrease=0.0, min_impurity_split=None,\n",
       "            min_samples_leaf=1, min_samples_split=2,\n",
       "            min_weight_fraction_leaf=0.0, n_estimators=3, n_jobs=None,\n",
       "            oob_score=False, random_state=1, verbose=0, warm_start=False)"
      ]
     },
     "execution_count": 50,
     "metadata": {},
     "output_type": "execute_result"
    }
   ],
   "source": [
    "#Creating random forest object and training the forest with the training data\n",
    "objRandom=RandomForestClassifier(n_estimators=3,random_state=1)\n",
    "objRandom.fit(X_train,y_train)"
   ]
  },
  {
   "cell_type": "code",
   "execution_count": 51,
   "metadata": {},
   "outputs": [],
   "source": [
    "#Accuracy of the original random forest from sklearn\n",
    "#\n",
    "#"
   ]
  },
  {
   "cell_type": "markdown",
   "metadata": {},
   "source": [
    "###### Pruning Random Forest from skLearn"
   ]
  },
  {
   "cell_type": "code",
   "execution_count": 52,
   "metadata": {},
   "outputs": [
    {
     "name": "stdout",
     "output_type": "stream",
     "text": [
      "[DecisionTreeClassifier(class_weight=None, criterion='gini', max_depth=None,\n",
      "            max_features='auto', max_leaf_nodes=None,\n",
      "            min_impurity_decrease=0.0, min_impurity_split=None,\n",
      "            min_samples_leaf=1, min_samples_split=2,\n",
      "            min_weight_fraction_leaf=0.0, presort=False,\n",
      "            random_state=1791095845, splitter='best'), DecisionTreeClassifier(class_weight=None, criterion='gini', max_depth=None,\n",
      "            max_features='auto', max_leaf_nodes=None,\n",
      "            min_impurity_decrease=0.0, min_impurity_split=None,\n",
      "            min_samples_leaf=1, min_samples_split=2,\n",
      "            min_weight_fraction_leaf=0.0, presort=False,\n",
      "            random_state=2135392491, splitter='best'), DecisionTreeClassifier(class_weight=None, criterion='gini', max_depth=None,\n",
      "            max_features='auto', max_leaf_nodes=None,\n",
      "            min_impurity_decrease=0.0, min_impurity_split=None,\n",
      "            min_samples_leaf=1, min_samples_split=2,\n",
      "            min_weight_fraction_leaf=0.0, presort=False,\n",
      "            random_state=946286476, splitter='best')]\n"
     ]
    }
   ],
   "source": [
    "#Decision trees in the random forest\n",
    "print(objRandom.estimators_)"
   ]
  },
  {
   "cell_type": "code",
   "execution_count": 57,
   "metadata": {},
   "outputs": [
    {
     "name": "stderr",
     "output_type": "stream",
     "text": [
      "C:\\Users\\Petrofac\\Anaconda3\\lib\\site-packages\\ipykernel_launcher.py:9: DeprecationWarning: `imread` is deprecated!\n",
      "`imread` is deprecated in SciPy 1.0.0, and will be removed in 1.2.0.\n",
      "Use ``imageio.imread`` instead.\n",
      "  if __name__ == '__main__':\n"
     ]
    },
    {
     "data": {
      "text/plain": [
       "<matplotlib.image.AxesImage at 0x1f08e2c0400>"
      ]
     },
     "execution_count": 57,
     "metadata": {},
     "output_type": "execute_result"
    },
    {
     "data": {
      "image/png": "[encoded data removed]",
      "text/plain": [
       "<Figure size 432x288 with 1 Axes>"
      ]
     },
     "metadata": {
      "needs_background": "light"
     },
     "output_type": "display_data"
    }
   ],
   "source": [
    "# Acessing a tree from random forest classifier\n",
    "randomForestTree1 = objRandom.estimators_[0]\n",
    "# Export the image to a dot file\n",
    "export_graphviz(randomForestTree1, out_file = 'tree.dot', feature_names = feature_list, filled=True, rounded = True, precision = 1)\n",
    "# Use dot file to create a graph\n",
    "(graph, ) = pydot.graph_from_dot_file('tree.dot')\n",
    "# Write graph to a png file\n",
    "graph.write_png('tree.png');\n",
    "file = misc.imread('tree.png')\n",
    "plt.imshow(file)"
   ]
  },
  {
   "cell_type": "code",
   "execution_count": 58,
   "metadata": {},
   "outputs": [],
   "source": [
    "listColumn=[]\n",
    "instanceNumbr ='inst'\n",
    "for inst in range(len(X_train)):\n",
    "    columnHeader=instanceNumbr+str(inst+1)\n",
    "    listColumn.append(columnHeader)\n",
    "\n",
    "listlabel=[]\n",
    "decisionTree ='DTree'\n",
    "for header in range(objRandom.n_estimators):\n",
    "    rowHeader=decisionTree+str(header)\n",
    "    listlabel.append(rowHeader)\n",
    "\n",
    "listPredict=[]\n",
    "for estimators in objRandom.estimators_:\n",
    "    estimators.classes_=objRandom.classes_\n",
    "    predictions=estimators.predict(X_train)\n",
    "    listPredict.append(predictions)\n",
    "    #print(predictions)\n",
    "    #print(estimators)\n",
    "    \n",
    "#print(listColumn)\n",
    "#print(listlabel)\n",
    "#print(listPredict)\n",
    "#tListPredict=np.transpose(listPredict)\n",
    "#print(tListPredict)\n",
    "\n",
    "df1 = pd.DataFrame(listPredict,columns=listColumn)\n",
    "df2 = pd.DataFrame(listlabel)\n",
    "clusterSet=pd.concat([df2,df1],axis=1)\n",
    "# tc = np.transpose(clusterSet)\n",
    "# pd.concat([df2,df1],axis=1)\n",
    "# print(tc.head())\n",
    "# tc1= tc.drop(0, axis = 1)\n",
    "# print(clusterSet)\n",
    "# print(listPredict)"
   ]
  },
  {
   "cell_type": "code",
   "execution_count": 59,
   "metadata": {},
   "outputs": [
    {
     "name": "stdout",
     "output_type": "stream",
     "text": [
      "   inst1  inst2  inst3  inst4  inst5  inst6  inst7  inst8  inst9  inst10  \\\n",
      "0      6      5      1      5      2      2      1      1      1       6   \n",
      "1      7      5      1      5      3      2      5      2      1       7   \n",
      "2      7      5      1      3      2      2      1      2      1       7   \n",
      "\n",
      "    ...    inst33  inst34  inst35  inst36  inst37  inst38  inst39  inst40  \\\n",
      "0   ...         6       5       1       7       1       2       3       2   \n",
      "1   ...         6       7       1       7       1       2       3       5   \n",
      "2   ...         6       5       1       7       1       2       3       1   \n",
      "\n",
      "   inst41  inst42  \n",
      "0       2       3  \n",
      "1       3       3  \n",
      "2       3       3  \n",
      "\n",
      "[3 rows x 42 columns]\n"
     ]
    }
   ],
   "source": [
    "print(df1)"
   ]
  },
  {
   "cell_type": "code",
   "execution_count": 100,
   "metadata": {},
   "outputs": [],
   "source": [
    "def get_distance(tree_One,tree_Two):\n",
    "    diff=0\n",
    "    dimension=len(tree_One)\n",
    "    print(tree_One)\n",
    "    print(tree_Two)\n",
    "    for inst in range(dimension):\n",
    "        if(tree_One[inst]==tree_Two[inst]):\n",
    "            diff=diff\n",
    "        else:\n",
    "            diff=diff+1  \n",
    "            \n",
    "    diff=int(round(diff))        \n",
    "    return diff"
   ]
  },
  {
   "cell_type": "code",
   "execution_count": 68,
   "metadata": {},
   "outputs": [],
   "source": [
    "# tree_nesteList=[[] for i in range(10)]\n",
    "# diversity_matrix=np.zeros((10,10))\n",
    "# print(tree_nesteList)\n",
    "# print(diversity_matrix)\n",
    "# for i in range(10):\n",
    "#     for j in range(10):\n",
    "#         diversity_matrix[i][j]=get_distance(listPredict[i],listPredict[j])      \n",
    "#         print(diversity_matrix)  \n",
    "\n",
    "\n",
    "        "
   ]
  },
  {
   "cell_type": "code",
   "execution_count": 70,
   "metadata": {},
   "outputs": [
    {
     "data": {
      "text/plain": [
       "(2, 42)"
      ]
     },
     "execution_count": 70,
     "metadata": {},
     "output_type": "execute_result"
    }
   ],
   "source": [
    "#Clustering ,n_clusters=10\n",
    "kmeans=KMeans(n_clusters=2,random_state=1)\n",
    "#Calculated distance for all features\n",
    "clusters = kmeans.fit_predict(df1)#Fit the training set without label column\n",
    "kmeans.cluster_centers_.shape"
   ]
  },
  {
   "cell_type": "code",
   "execution_count": 71,
   "metadata": {},
   "outputs": [
    {
     "data": {
      "text/plain": [
       "array([1, 0, 1])"
      ]
     },
     "execution_count": 71,
     "metadata": {},
     "output_type": "execute_result"
    }
   ],
   "source": [
    "clusters"
   ]
  },
  {
   "cell_type": "code",
   "execution_count": 72,
   "metadata": {},
   "outputs": [],
   "source": [
    "df1['Clusters']=clusters"
   ]
  },
  {
   "cell_type": "code",
   "execution_count": 73,
   "metadata": {
    "scrolled": true
   },
   "outputs": [
    {
     "data": {
      "text/html": [
       "<div>\n",
       "<style scoped>\n",
       "    .dataframe tbody tr th:only-of-type {\n",
       "        vertical-align: middle;\n",
       "    }\n",
       "\n",
       "    .dataframe tbody tr th {\n",
       "        vertical-align: top;\n",
       "    }\n",
       "\n",
       "    .dataframe thead th {\n",
       "        text-align: right;\n",
       "    }\n",
       "</style>\n",
       "<table border=\"1\" class=\"dataframe\">\n",
       "  <thead>\n",
       "    <tr style=\"text-align: right;\">\n",
       "      <th></th>\n",
       "      <th>inst1</th>\n",
       "      <th>inst2</th>\n",
       "      <th>inst3</th>\n",
       "      <th>inst4</th>\n",
       "      <th>inst5</th>\n",
       "      <th>inst6</th>\n",
       "      <th>inst7</th>\n",
       "      <th>inst8</th>\n",
       "      <th>inst9</th>\n",
       "      <th>inst10</th>\n",
       "      <th>...</th>\n",
       "      <th>inst34</th>\n",
       "      <th>inst35</th>\n",
       "      <th>inst36</th>\n",
       "      <th>inst37</th>\n",
       "      <th>inst38</th>\n",
       "      <th>inst39</th>\n",
       "      <th>inst40</th>\n",
       "      <th>inst41</th>\n",
       "      <th>inst42</th>\n",
       "      <th>Clusters</th>\n",
       "    </tr>\n",
       "  </thead>\n",
       "  <tbody>\n",
       "    <tr>\n",
       "      <th>0</th>\n",
       "      <td>6</td>\n",
       "      <td>5</td>\n",
       "      <td>1</td>\n",
       "      <td>5</td>\n",
       "      <td>2</td>\n",
       "      <td>2</td>\n",
       "      <td>1</td>\n",
       "      <td>1</td>\n",
       "      <td>1</td>\n",
       "      <td>6</td>\n",
       "      <td>...</td>\n",
       "      <td>5</td>\n",
       "      <td>1</td>\n",
       "      <td>7</td>\n",
       "      <td>1</td>\n",
       "      <td>2</td>\n",
       "      <td>3</td>\n",
       "      <td>2</td>\n",
       "      <td>2</td>\n",
       "      <td>3</td>\n",
       "      <td>1</td>\n",
       "    </tr>\n",
       "    <tr>\n",
       "      <th>1</th>\n",
       "      <td>7</td>\n",
       "      <td>5</td>\n",
       "      <td>1</td>\n",
       "      <td>5</td>\n",
       "      <td>3</td>\n",
       "      <td>2</td>\n",
       "      <td>5</td>\n",
       "      <td>2</td>\n",
       "      <td>1</td>\n",
       "      <td>7</td>\n",
       "      <td>...</td>\n",
       "      <td>7</td>\n",
       "      <td>1</td>\n",
       "      <td>7</td>\n",
       "      <td>1</td>\n",
       "      <td>2</td>\n",
       "      <td>3</td>\n",
       "      <td>5</td>\n",
       "      <td>3</td>\n",
       "      <td>3</td>\n",
       "      <td>0</td>\n",
       "    </tr>\n",
       "    <tr>\n",
       "      <th>2</th>\n",
       "      <td>7</td>\n",
       "      <td>5</td>\n",
       "      <td>1</td>\n",
       "      <td>3</td>\n",
       "      <td>2</td>\n",
       "      <td>2</td>\n",
       "      <td>1</td>\n",
       "      <td>2</td>\n",
       "      <td>1</td>\n",
       "      <td>7</td>\n",
       "      <td>...</td>\n",
       "      <td>5</td>\n",
       "      <td>1</td>\n",
       "      <td>7</td>\n",
       "      <td>1</td>\n",
       "      <td>2</td>\n",
       "      <td>3</td>\n",
       "      <td>1</td>\n",
       "      <td>3</td>\n",
       "      <td>3</td>\n",
       "      <td>1</td>\n",
       "    </tr>\n",
       "  </tbody>\n",
       "</table>\n",
       "<p>3 rows × 43 columns</p>\n",
       "</div>"
      ],
      "text/plain": [
       "   inst1  inst2  inst3  inst4  inst5  inst6  inst7  inst8  inst9  inst10  \\\n",
       "0      6      5      1      5      2      2      1      1      1       6   \n",
       "1      7      5      1      5      3      2      5      2      1       7   \n",
       "2      7      5      1      3      2      2      1      2      1       7   \n",
       "\n",
       "     ...     inst34  inst35  inst36  inst37  inst38  inst39  inst40  inst41  \\\n",
       "0    ...          5       1       7       1       2       3       2       2   \n",
       "1    ...          7       1       7       1       2       3       5       3   \n",
       "2    ...          5       1       7       1       2       3       1       3   \n",
       "\n",
       "   inst42  Clusters  \n",
       "0       3         1  \n",
       "1       3         0  \n",
       "2       3         1  \n",
       "\n",
       "[3 rows x 43 columns]"
      ]
     },
     "execution_count": 73,
     "metadata": {},
     "output_type": "execute_result"
    }
   ],
   "source": [
    "df1.head(10)"
   ]
  },
  {
   "cell_type": "code",
   "execution_count": 74,
   "metadata": {},
   "outputs": [
    {
     "data": {
      "text/html": [
       "<div>\n",
       "<style scoped>\n",
       "    .dataframe tbody tr th:only-of-type {\n",
       "        vertical-align: middle;\n",
       "    }\n",
       "\n",
       "    .dataframe tbody tr th {\n",
       "        vertical-align: top;\n",
       "    }\n",
       "\n",
       "    .dataframe thead th {\n",
       "        text-align: right;\n",
       "    }\n",
       "</style>\n",
       "<table border=\"1\" class=\"dataframe\">\n",
       "  <thead>\n",
       "    <tr style=\"text-align: right;\">\n",
       "      <th></th>\n",
       "      <th>inst1</th>\n",
       "      <th>inst2</th>\n",
       "      <th>inst3</th>\n",
       "      <th>inst4</th>\n",
       "      <th>inst5</th>\n",
       "      <th>inst6</th>\n",
       "      <th>inst7</th>\n",
       "      <th>inst8</th>\n",
       "      <th>inst9</th>\n",
       "      <th>inst10</th>\n",
       "      <th>...</th>\n",
       "      <th>inst34</th>\n",
       "      <th>inst35</th>\n",
       "      <th>inst36</th>\n",
       "      <th>inst37</th>\n",
       "      <th>inst38</th>\n",
       "      <th>inst39</th>\n",
       "      <th>inst40</th>\n",
       "      <th>inst41</th>\n",
       "      <th>inst42</th>\n",
       "      <th>Clusters</th>\n",
       "    </tr>\n",
       "  </thead>\n",
       "  <tbody>\n",
       "    <tr>\n",
       "      <th>0</th>\n",
       "      <td>6</td>\n",
       "      <td>5</td>\n",
       "      <td>1</td>\n",
       "      <td>5</td>\n",
       "      <td>2</td>\n",
       "      <td>2</td>\n",
       "      <td>1</td>\n",
       "      <td>1</td>\n",
       "      <td>1</td>\n",
       "      <td>6</td>\n",
       "      <td>...</td>\n",
       "      <td>5</td>\n",
       "      <td>1</td>\n",
       "      <td>7</td>\n",
       "      <td>1</td>\n",
       "      <td>2</td>\n",
       "      <td>3</td>\n",
       "      <td>2</td>\n",
       "      <td>2</td>\n",
       "      <td>3</td>\n",
       "      <td>1</td>\n",
       "    </tr>\n",
       "    <tr>\n",
       "      <th>2</th>\n",
       "      <td>7</td>\n",
       "      <td>5</td>\n",
       "      <td>1</td>\n",
       "      <td>3</td>\n",
       "      <td>2</td>\n",
       "      <td>2</td>\n",
       "      <td>1</td>\n",
       "      <td>2</td>\n",
       "      <td>1</td>\n",
       "      <td>7</td>\n",
       "      <td>...</td>\n",
       "      <td>5</td>\n",
       "      <td>1</td>\n",
       "      <td>7</td>\n",
       "      <td>1</td>\n",
       "      <td>2</td>\n",
       "      <td>3</td>\n",
       "      <td>1</td>\n",
       "      <td>3</td>\n",
       "      <td>3</td>\n",
       "      <td>1</td>\n",
       "    </tr>\n",
       "  </tbody>\n",
       "</table>\n",
       "<p>2 rows × 43 columns</p>\n",
       "</div>"
      ],
      "text/plain": [
       "   inst1  inst2  inst3  inst4  inst5  inst6  inst7  inst8  inst9  inst10  \\\n",
       "0      6      5      1      5      2      2      1      1      1       6   \n",
       "2      7      5      1      3      2      2      1      2      1       7   \n",
       "\n",
       "     ...     inst34  inst35  inst36  inst37  inst38  inst39  inst40  inst41  \\\n",
       "0    ...          5       1       7       1       2       3       2       2   \n",
       "2    ...          5       1       7       1       2       3       1       3   \n",
       "\n",
       "   inst42  Clusters  \n",
       "0       3         1  \n",
       "2       3         1  \n",
       "\n",
       "[2 rows x 43 columns]"
      ]
     },
     "execution_count": 74,
     "metadata": {},
     "output_type": "execute_result"
    }
   ],
   "source": [
    "df1[df1['Clusters']==1]"
   ]
  },
  {
   "cell_type": "code",
   "execution_count": 101,
   "metadata": {},
   "outputs": [
    {
     "name": "stdout",
     "output_type": "stream",
     "text": [
      "[6 5 1 5 2 2 1 1 1 6 1 2 1 2 1 2 2 1 7 6 3 1 1 1 3 2 5 1 1 1 1 1 6 5 1 7 1\n",
      " 2 3 2 2 3]\n",
      "[6 5 1 5 2 2 1 1 1 6 1 2 1 2 1 2 2 1 7 6 3 1 1 1 3 2 5 1 1 1 1 1 6 5 1 7 1\n",
      " 2 3 2 2 3]\n",
      "[7 5 1 5 3 2 5 2 1 7 1 2 2 3 3 3 1 1 7 6 3 2 5 1 3 1 7 1 1 3 1 1 6 7 1 7 1\n",
      " 2 3 5 3 3]\n",
      "[6 5 1 5 2 2 1 1 1 6 1 2 1 2 1 2 2 1 7 6 3 1 1 1 3 2 5 1 1 1 1 1 6 5 1 7 1\n",
      " 2 3 2 2 3]\n",
      "[7 5 1 3 2 2 1 2 1 7 1 1 2 2 1 2 1 3 7 1 3 2 1 1 3 2 7 1 1 1 1 1 6 5 1 7 1\n",
      " 2 3 1 3 3]\n",
      "[6 5 1 5 2 2 1 1 1 6 1 2 1 2 1 2 2 1 7 6 3 1 1 1 3 2 5 1 1 1 1 1 6 5 1 7 1\n",
      " 2 3 2 2 3]\n",
      "[6 5 1 5 2 2 1 1 1 6 1 2 1 2 1 2 2 1 7 6 3 1 1 1 3 2 5 1 1 1 1 1 6 5 1 7 1\n",
      " 2 3 2 2 3]\n",
      "[7 5 1 5 3 2 5 2 1 7 1 2 2 3 3 3 1 1 7 6 3 2 5 1 3 1 7 1 1 3 1 1 6 7 1 7 1\n",
      " 2 3 5 3 3]\n",
      "[7 5 1 5 3 2 5 2 1 7 1 2 2 3 3 3 1 1 7 6 3 2 5 1 3 1 7 1 1 3 1 1 6 7 1 7 1\n",
      " 2 3 5 3 3]\n",
      "[7 5 1 5 3 2 5 2 1 7 1 2 2 3 3 3 1 1 7 6 3 2 5 1 3 1 7 1 1 3 1 1 6 7 1 7 1\n",
      " 2 3 5 3 3]\n",
      "[7 5 1 3 2 2 1 2 1 7 1 1 2 2 1 2 1 3 7 1 3 2 1 1 3 2 7 1 1 1 1 1 6 5 1 7 1\n",
      " 2 3 1 3 3]\n",
      "[7 5 1 5 3 2 5 2 1 7 1 2 2 3 3 3 1 1 7 6 3 2 5 1 3 1 7 1 1 3 1 1 6 7 1 7 1\n",
      " 2 3 5 3 3]\n",
      "[[6 5 1 5 2 2 1 1 1 6 1 2 1 2 1 2 2 1 7 6 3 1 1 1 3 2 5 1 1 1 1 1 6 5 1 7\n",
      "  1 2 3 2 2 3]\n",
      " [7 5 1 5 3 2 5 2 1 7 1 2 2 3 3 3 1 1 7 6 3 2 5 1 3 1 7 1 1 3 1 1 6 7 1 7\n",
      "  1 2 3 5 3 3]]\n",
      "[[6.5 5.  1.  4.  2.  2.  1.  1.5 1.  6.5 1.  1.5 1.5 2.  1.  2.  1.5 2.\n",
      "  7.  3.5 3.  1.5 1.  1.  3.  2.  6.  1.  1.  1.  1.  1.  6.  5.  1.  7.\n",
      "  1.  2.  3.  1.5 2.5 3. ]\n",
      " [7.  5.  1.  5.  3.  2.  5.  2.  1.  7.  1.  2.  2.  3.  3.  3.  1.  1.\n",
      "  7.  6.  3.  2.  5.  1.  3.  1.  7.  1.  1.  3.  1.  1.  6.  7.  1.  7.\n",
      "  1.  2.  3.  5.  3.  3. ]]\n"
     ]
    },
    {
     "ename": "ValueError",
     "evalue": "The truth value of an array with more than one element is ambiguous. Use a.any() or a.all()",
     "output_type": "error",
     "traceback": [
      "\u001b[1;31m---------------------------------------------------------------------------\u001b[0m",
      "\u001b[1;31mValueError\u001b[0m                                Traceback (most recent call last)",
      "\u001b[1;32m<ipython-input-101-cee7b28c1ec1>\u001b[0m in \u001b[0;36m<module>\u001b[1;34m\u001b[0m\n\u001b[0;32m     10\u001b[0m \u001b[1;33m\u001b[0m\u001b[0m\n\u001b[0;32m     11\u001b[0m \u001b[1;31m# run cluster analysis and obtain results\u001b[0m\u001b[1;33m\u001b[0m\u001b[1;33m\u001b[0m\u001b[1;33m\u001b[0m\u001b[0m\n\u001b[1;32m---> 12\u001b[1;33m \u001b[0mkmeans_instance\u001b[0m\u001b[1;33m.\u001b[0m\u001b[0mprocess\u001b[0m\u001b[1;33m(\u001b[0m\u001b[1;33m)\u001b[0m\u001b[1;33m\u001b[0m\u001b[1;33m\u001b[0m\u001b[0m\n\u001b[0m\u001b[0;32m     13\u001b[0m \u001b[1;31m# clusters = kmeans_instance.get_clusters()\u001b[0m\u001b[1;33m\u001b[0m\u001b[1;33m\u001b[0m\u001b[1;33m\u001b[0m\u001b[0m\n",
      "\u001b[1;32m~\\Anaconda3\\lib\\site-packages\\pyclustering\\cluster\\kmeans.py\u001b[0m in \u001b[0;36mprocess\u001b[1;34m(self)\u001b[0m\n\u001b[0;32m    382\u001b[0m             \u001b[0mself\u001b[0m\u001b[1;33m.\u001b[0m\u001b[0m__process_by_ccore\u001b[0m\u001b[1;33m(\u001b[0m\u001b[1;33m)\u001b[0m\u001b[1;33m\u001b[0m\u001b[1;33m\u001b[0m\u001b[0m\n\u001b[0;32m    383\u001b[0m         \u001b[1;32melse\u001b[0m\u001b[1;33m:\u001b[0m\u001b[1;33m\u001b[0m\u001b[1;33m\u001b[0m\u001b[0m\n\u001b[1;32m--> 384\u001b[1;33m             \u001b[0mself\u001b[0m\u001b[1;33m.\u001b[0m\u001b[0m__process_by_python\u001b[0m\u001b[1;33m(\u001b[0m\u001b[1;33m)\u001b[0m\u001b[1;33m\u001b[0m\u001b[1;33m\u001b[0m\u001b[0m\n\u001b[0m\u001b[0;32m    385\u001b[0m \u001b[1;33m\u001b[0m\u001b[0m\n\u001b[0;32m    386\u001b[0m         \u001b[1;32mreturn\u001b[0m \u001b[0mself\u001b[0m\u001b[1;33m\u001b[0m\u001b[1;33m\u001b[0m\u001b[0m\n",
      "\u001b[1;32m~\\Anaconda3\\lib\\site-packages\\pyclustering\\cluster\\kmeans.py\u001b[0m in \u001b[0;36m__process_by_python\u001b[1;34m(self)\u001b[0m\n\u001b[0;32m    425\u001b[0m                 \u001b[0mself\u001b[0m\u001b[1;33m.\u001b[0m\u001b[0m__observer\u001b[0m\u001b[1;33m.\u001b[0m\u001b[0mnotify\u001b[0m\u001b[1;33m(\u001b[0m\u001b[0mself\u001b[0m\u001b[1;33m.\u001b[0m\u001b[0m__clusters\u001b[0m\u001b[1;33m,\u001b[0m \u001b[0mupdated_centers\u001b[0m\u001b[1;33m.\u001b[0m\u001b[0mtolist\u001b[0m\u001b[1;33m(\u001b[0m\u001b[1;33m)\u001b[0m\u001b[1;33m)\u001b[0m\u001b[1;33m\u001b[0m\u001b[1;33m\u001b[0m\u001b[0m\n\u001b[0;32m    426\u001b[0m \u001b[1;33m\u001b[0m\u001b[0m\n\u001b[1;32m--> 427\u001b[1;33m             \u001b[0mmaximum_change\u001b[0m \u001b[1;33m=\u001b[0m \u001b[0mself\u001b[0m\u001b[1;33m.\u001b[0m\u001b[0m__calculate_changes\u001b[0m\u001b[1;33m(\u001b[0m\u001b[0mupdated_centers\u001b[0m\u001b[1;33m)\u001b[0m\u001b[1;33m\u001b[0m\u001b[1;33m\u001b[0m\u001b[0m\n\u001b[0m\u001b[0;32m    428\u001b[0m \u001b[1;33m\u001b[0m\u001b[0m\n\u001b[0;32m    429\u001b[0m             \u001b[0mself\u001b[0m\u001b[1;33m.\u001b[0m\u001b[0m__centers\u001b[0m \u001b[1;33m=\u001b[0m \u001b[0mupdated_centers\u001b[0m    \u001b[1;31m# assign center after change calculation\u001b[0m\u001b[1;33m\u001b[0m\u001b[1;33m\u001b[0m\u001b[0m\n",
      "\u001b[1;32m~\\Anaconda3\\lib\\site-packages\\pyclustering\\cluster\\kmeans.py\u001b[0m in \u001b[0;36m__calculate_changes\u001b[1;34m(self, updated_centers)\u001b[0m\n\u001b[0;32m    571\u001b[0m \u001b[1;33m\u001b[0m\u001b[0m\n\u001b[0;32m    572\u001b[0m         \u001b[1;32melse\u001b[0m\u001b[1;33m:\u001b[0m\u001b[1;33m\u001b[0m\u001b[1;33m\u001b[0m\u001b[0m\n\u001b[1;32m--> 573\u001b[1;33m             \u001b[0mchanges\u001b[0m \u001b[1;33m=\u001b[0m \u001b[0mself\u001b[0m\u001b[1;33m.\u001b[0m\u001b[0m__metric\u001b[0m\u001b[1;33m(\u001b[0m\u001b[0mself\u001b[0m\u001b[1;33m.\u001b[0m\u001b[0m__centers\u001b[0m\u001b[1;33m,\u001b[0m \u001b[0mupdated_centers\u001b[0m\u001b[1;33m)\u001b[0m\u001b[1;33m\u001b[0m\u001b[1;33m\u001b[0m\u001b[0m\n\u001b[0m\u001b[0;32m    574\u001b[0m             \u001b[0mmaximum_change\u001b[0m \u001b[1;33m=\u001b[0m \u001b[0mnumpy\u001b[0m\u001b[1;33m.\u001b[0m\u001b[0mmax\u001b[0m\u001b[1;33m(\u001b[0m\u001b[0mchanges\u001b[0m\u001b[1;33m)\u001b[0m\u001b[1;33m\u001b[0m\u001b[1;33m\u001b[0m\u001b[0m\n\u001b[0;32m    575\u001b[0m \u001b[1;33m\u001b[0m\u001b[0m\n",
      "\u001b[1;32m~\\Anaconda3\\lib\\site-packages\\pyclustering\\utils\\metric.py\u001b[0m in \u001b[0;36m__call__\u001b[1;34m(self, point1, point2)\u001b[0m\n\u001b[0;32m    138\u001b[0m \u001b[1;33m\u001b[0m\u001b[0m\n\u001b[0;32m    139\u001b[0m         \"\"\"\n\u001b[1;32m--> 140\u001b[1;33m         \u001b[1;32mreturn\u001b[0m \u001b[0mself\u001b[0m\u001b[1;33m.\u001b[0m\u001b[0m__calculator\u001b[0m\u001b[1;33m(\u001b[0m\u001b[0mpoint1\u001b[0m\u001b[1;33m,\u001b[0m \u001b[0mpoint2\u001b[0m\u001b[1;33m)\u001b[0m\u001b[1;33m\u001b[0m\u001b[1;33m\u001b[0m\u001b[0m\n\u001b[0m\u001b[0;32m    141\u001b[0m \u001b[1;33m\u001b[0m\u001b[0m\n\u001b[0;32m    142\u001b[0m \u001b[1;33m\u001b[0m\u001b[0m\n",
      "\u001b[1;32m<ipython-input-100-e08e9ca083ae>\u001b[0m in \u001b[0;36mget_distance\u001b[1;34m(tree_One, tree_Two)\u001b[0m\n\u001b[0;32m      5\u001b[0m     \u001b[0mprint\u001b[0m\u001b[1;33m(\u001b[0m\u001b[0mtree_Two\u001b[0m\u001b[1;33m)\u001b[0m\u001b[1;33m\u001b[0m\u001b[1;33m\u001b[0m\u001b[0m\n\u001b[0;32m      6\u001b[0m     \u001b[1;32mfor\u001b[0m \u001b[0minst\u001b[0m \u001b[1;32min\u001b[0m \u001b[0mrange\u001b[0m\u001b[1;33m(\u001b[0m\u001b[0mdimension\u001b[0m\u001b[1;33m)\u001b[0m\u001b[1;33m:\u001b[0m\u001b[1;33m\u001b[0m\u001b[1;33m\u001b[0m\u001b[0m\n\u001b[1;32m----> 7\u001b[1;33m         \u001b[1;32mif\u001b[0m\u001b[1;33m(\u001b[0m\u001b[0mtree_One\u001b[0m\u001b[1;33m[\u001b[0m\u001b[0minst\u001b[0m\u001b[1;33m]\u001b[0m\u001b[1;33m==\u001b[0m\u001b[0mtree_Two\u001b[0m\u001b[1;33m[\u001b[0m\u001b[0minst\u001b[0m\u001b[1;33m]\u001b[0m\u001b[1;33m)\u001b[0m\u001b[1;33m:\u001b[0m\u001b[1;33m\u001b[0m\u001b[1;33m\u001b[0m\u001b[0m\n\u001b[0m\u001b[0;32m      8\u001b[0m             \u001b[0mdiff\u001b[0m\u001b[1;33m=\u001b[0m\u001b[0mdiff\u001b[0m\u001b[1;33m\u001b[0m\u001b[1;33m\u001b[0m\u001b[0m\n\u001b[0;32m      9\u001b[0m         \u001b[1;32melse\u001b[0m\u001b[1;33m:\u001b[0m\u001b[1;33m\u001b[0m\u001b[1;33m\u001b[0m\u001b[0m\n",
      "\u001b[1;31mValueError\u001b[0m: The truth value of an array with more than one element is ambiguous. Use a.any() or a.all()"
     ]
    }
   ],
   "source": [
    "from pyclustering.cluster.kmeans import kmeans\n",
    "from pyclustering.utils.metric import type_metric, distance_metric\n",
    "\n",
    "# user_function = lambda point1, point2: point1[0] + point2[0] + 2\n",
    "metric = distance_metric(type_metric.USER_DEFINED, func=get_distance)\n",
    "\n",
    "# create K-Means algorithm with specific distance metric\n",
    "start_centers = [listPredict[0],listPredict[1]];\n",
    "kmeans_instance = kmeans(listPredict,start_centers,metric=metric)\n",
    "\n",
    "# run cluster analysis and obtain results\n",
    "kmeans_instance.process()\n",
    "# clusters = kmeans_instance.get_clusters()"
   ]
  },
  {
   "cell_type": "code",
   "execution_count": null,
   "metadata": {},
   "outputs": [],
   "source": []
  },
  {
   "cell_type": "code",
   "execution_count": null,
   "metadata": {},
   "outputs": [],
   "source": []
  }
 ],
 "metadata": {
  "kernelspec": {
   "display_name": "Python 3",
   "language": "python",
   "name": "python3"
  },
  "language_info": {
   "codemirror_mode": {
    "name": "ipython",
    "version": 3
   },
   "file_extension": ".py",
   "mimetype": "text/x-python",
   "name": "python",
   "nbconvert_exporter": "python",
   "pygments_lexer": "ipython3",
   "version": "3.7.1"
  }
 },
 "nbformat": 4,
 "nbformat_minor": 2
}
