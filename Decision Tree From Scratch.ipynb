{
 "cells": [
  {
   "cell_type": "markdown",
   "metadata": {},
   "source": [
    "### Decision Tree From Scratch"
   ]
  },
  {
   "cell_type": "markdown",
   "metadata": {},
   "source": [
    "#### Import Statements"
   ]
  },
  {
   "cell_type": "code",
   "execution_count": 1,
   "metadata": {},
   "outputs": [],
   "source": [
    "import numpy as np\n",
    "import pandas as pd\n",
    "\n",
    "import matplotlib.pyplot as plt\n",
    "import seaborn as sns\n",
    "%matplotlib inline\n",
    "\n",
    "import random \n",
    "from pprint import pprint"
   ]
  },
  {
   "cell_type": "markdown",
   "metadata": {},
   "source": [
    "#### Load and Prepare Data"
   ]
  },
  {
   "cell_type": "code",
   "execution_count": 2,
   "metadata": {},
   "outputs": [],
   "source": [
    "df=pd.read_csv('C:/Users/Petrofac/Desktop/Decision Tree From Scratch/iris.csv')"
   ]
  },
  {
   "cell_type": "markdown",
   "metadata": {},
   "source": [
    "###### Format of the data required\n",
    "    *Last column of the df must contain the label and it must also be called 'label'\n",
    "    *There should be no missing value    "
   ]
  },
  {
   "cell_type": "code",
   "execution_count": 3,
   "metadata": {},
   "outputs": [
    {
     "data": {
      "text/html": [
       "<div>\n",
       "<style scoped>\n",
       "    .dataframe tbody tr th:only-of-type {\n",
       "        vertical-align: middle;\n",
       "    }\n",
       "\n",
       "    .dataframe tbody tr th {\n",
       "        vertical-align: top;\n",
       "    }\n",
       "\n",
       "    .dataframe thead th {\n",
       "        text-align: right;\n",
       "    }\n",
       "</style>\n",
       "<table border=\"1\" class=\"dataframe\">\n",
       "  <thead>\n",
       "    <tr style=\"text-align: right;\">\n",
       "      <th></th>\n",
       "      <th>sepal_length</th>\n",
       "      <th>sepal_width</th>\n",
       "      <th>petal_length</th>\n",
       "      <th>petal_width</th>\n",
       "    </tr>\n",
       "  </thead>\n",
       "  <tbody>\n",
       "    <tr>\n",
       "      <th>count</th>\n",
       "      <td>150.000000</td>\n",
       "      <td>150.000000</td>\n",
       "      <td>150.000000</td>\n",
       "      <td>150.000000</td>\n",
       "    </tr>\n",
       "    <tr>\n",
       "      <th>mean</th>\n",
       "      <td>5.843333</td>\n",
       "      <td>3.054000</td>\n",
       "      <td>3.758667</td>\n",
       "      <td>1.198667</td>\n",
       "    </tr>\n",
       "    <tr>\n",
       "      <th>std</th>\n",
       "      <td>0.828066</td>\n",
       "      <td>0.433594</td>\n",
       "      <td>1.764420</td>\n",
       "      <td>0.763161</td>\n",
       "    </tr>\n",
       "    <tr>\n",
       "      <th>min</th>\n",
       "      <td>4.300000</td>\n",
       "      <td>2.000000</td>\n",
       "      <td>1.000000</td>\n",
       "      <td>0.100000</td>\n",
       "    </tr>\n",
       "    <tr>\n",
       "      <th>25%</th>\n",
       "      <td>5.100000</td>\n",
       "      <td>2.800000</td>\n",
       "      <td>1.600000</td>\n",
       "      <td>0.300000</td>\n",
       "    </tr>\n",
       "    <tr>\n",
       "      <th>50%</th>\n",
       "      <td>5.800000</td>\n",
       "      <td>3.000000</td>\n",
       "      <td>4.350000</td>\n",
       "      <td>1.300000</td>\n",
       "    </tr>\n",
       "    <tr>\n",
       "      <th>75%</th>\n",
       "      <td>6.400000</td>\n",
       "      <td>3.300000</td>\n",
       "      <td>5.100000</td>\n",
       "      <td>1.800000</td>\n",
       "    </tr>\n",
       "    <tr>\n",
       "      <th>max</th>\n",
       "      <td>7.900000</td>\n",
       "      <td>4.400000</td>\n",
       "      <td>6.900000</td>\n",
       "      <td>2.500000</td>\n",
       "    </tr>\n",
       "  </tbody>\n",
       "</table>\n",
       "</div>"
      ],
      "text/plain": [
       "       sepal_length  sepal_width  petal_length  petal_width\n",
       "count    150.000000   150.000000    150.000000   150.000000\n",
       "mean       5.843333     3.054000      3.758667     1.198667\n",
       "std        0.828066     0.433594      1.764420     0.763161\n",
       "min        4.300000     2.000000      1.000000     0.100000\n",
       "25%        5.100000     2.800000      1.600000     0.300000\n",
       "50%        5.800000     3.000000      4.350000     1.300000\n",
       "75%        6.400000     3.300000      5.100000     1.800000\n",
       "max        7.900000     4.400000      6.900000     2.500000"
      ]
     },
     "execution_count": 3,
     "metadata": {},
     "output_type": "execute_result"
    }
   ],
   "source": [
    "df.head()\n",
    "df.describe()"
   ]
  },
  {
   "cell_type": "code",
   "execution_count": 4,
   "metadata": {},
   "outputs": [],
   "source": [
    "#Code to drop the columns and rows as required\n",
    "#Drop row\n",
    "#df.drop(0, axis=0)\n",
    "#Drop column\n",
    "#df.drop(\"sepal_length\",axis=1)"
   ]
  },
  {
   "cell_type": "code",
   "execution_count": 5,
   "metadata": {},
   "outputs": [
    {
     "name": "stdout",
     "output_type": "stream",
     "text": [
      "<class 'pandas.core.frame.DataFrame'>\n",
      "RangeIndex: 150 entries, 0 to 149\n",
      "Data columns (total 5 columns):\n",
      "sepal_length    150 non-null float64\n",
      "sepal_width     150 non-null float64\n",
      "petal_length    150 non-null float64\n",
      "petal_width     150 non-null float64\n",
      "label           150 non-null object\n",
      "dtypes: float64(4), object(1)\n",
      "memory usage: 5.9+ KB\n"
     ]
    }
   ],
   "source": [
    "df=df.rename(columns={\"species\":\"label\"})\n",
    "#To ensure no missing value\n",
    "df.info()"
   ]
  },
  {
   "cell_type": "markdown",
   "metadata": {},
   "source": [
    "### Train-Test-Split"
   ]
  },
  {
   "cell_type": "code",
   "execution_count": 6,
   "metadata": {},
   "outputs": [],
   "source": [
    "def train_test_split(df,test_size):\n",
    "    \n",
    "    if isinstance(test_size,float):\n",
    "        test_size=round(test_size*len(df))\n",
    "\n",
    "    indices = df.index.tolist()\n",
    "    test_indices=random.sample(population=indices,k=test_size)\n",
    "\n",
    "    test_df=df.loc[test_indices]\n",
    "    train_df=df.drop(test_indices)\n",
    "    \n",
    "    return train_df,test_df"
   ]
  },
  {
   "cell_type": "code",
   "execution_count": 7,
   "metadata": {},
   "outputs": [],
   "source": [
    "random.seed(0)\n",
    "train_df,test_df=train_test_split(df,test_size=0.1)"
   ]
  },
  {
   "cell_type": "code",
   "execution_count": 8,
   "metadata": {},
   "outputs": [],
   "source": [
    "# print(test_df.head())\n",
    "# print(len(test_df))\n",
    "# print('\\n')\n",
    "\n",
    "# print(train_df.head())\n",
    "# print(len(train_df))\n",
    "# print('\\n')\n",
    "\n",
    "# print(df.head())\n",
    "# print(len(df))\n",
    "# print('\\n')\n"
   ]
  },
  {
   "cell_type": "markdown",
   "metadata": {},
   "source": [
    "### Helper Functions"
   ]
  },
  {
   "cell_type": "markdown",
   "metadata": {},
   "source": [
    "#### Data purity?"
   ]
  },
  {
   "cell_type": "code",
   "execution_count": 9,
   "metadata": {},
   "outputs": [],
   "source": [
    "def check_ifpure(data):\n",
    "    label_clmn=data[:,-1]\n",
    "    unique_check=np.unique(label_clmn)\n",
    "\n",
    "    if len(unique_check)== 1:\n",
    "        return True\n",
    "    else:\n",
    "        return False"
   ]
  },
  {
   "cell_type": "code",
   "execution_count": 10,
   "metadata": {
    "scrolled": true
   },
   "outputs": [],
   "source": [
    "# check_ifpure(train_df.values)\n",
    "# check_ifpure(train_df[train_df.petal_width<0.8].values)"
   ]
  },
  {
   "cell_type": "markdown",
   "metadata": {},
   "source": [
    "### Classify Data"
   ]
  },
  {
   "cell_type": "code",
   "execution_count": 11,
   "metadata": {},
   "outputs": [],
   "source": [
    "def claasify_data(data):\n",
    "    label_clmn=data[:,-1]\n",
    "    unique_classes,unique_count=np.unique(label_clmn,return_counts=True)\n",
    "    index=unique_count.argmax()\n",
    "    finalClass=unique_classes[index]\n",
    "    return finalClass\n"
   ]
  },
  {
   "cell_type": "code",
   "execution_count": 12,
   "metadata": {},
   "outputs": [],
   "source": [
    "# claasify_data(train_df[train_df.petal_width >1.2].values)"
   ]
  },
  {
   "cell_type": "markdown",
   "metadata": {},
   "source": [
    "### Potential Splits"
   ]
  },
  {
   "cell_type": "code",
   "execution_count": 13,
   "metadata": {},
   "outputs": [],
   "source": [
    "def get_appropriate_splt(data):\n",
    "    \n",
    "    app_splits={}\n",
    "    _,column=data.shape\n",
    "    for col_index in range(column-1):\n",
    "        app_splits[col_index]=[]\n",
    "        values=data[:,col_index]\n",
    "        unique_val=np.unique(values)\n",
    "\n",
    "        for indx in range(len(unique_val)):\n",
    "            if indx != 0:\n",
    "                presnt_val=unique_val[indx]\n",
    "                prev_val=unique_val[indx-1]\n",
    "                app_split=(presnt_val+prev_val)/2\n",
    "\n",
    "                app_splits[col_index].append(app_split)\n",
    "\n",
    "            \n",
    "    return app_splits"
   ]
  },
  {
   "cell_type": "code",
   "execution_count": 14,
   "metadata": {},
   "outputs": [],
   "source": [
    "# approp_split=get_appropriate_splt(train_df.values)\n",
    "# approp_split"
   ]
  },
  {
   "cell_type": "code",
   "execution_count": 15,
   "metadata": {},
   "outputs": [],
   "source": [
    "# sns.lmplot(data=train_df,x=\"petal_width\",y=\"petal_length\",hue=\"label\",fit_reg=False, size=6, aspect=1.5)\n",
    "# #plt.vlines(x=approp_split[3],ymin=1,ymax=7)\n",
    "# plt.hlines(y=approp_split[2],xmin=0,xmax=2.5)"
   ]
  },
  {
   "cell_type": "markdown",
   "metadata": {},
   "source": [
    "### Split Data"
   ]
  },
  {
   "cell_type": "code",
   "execution_count": 30,
   "metadata": {},
   "outputs": [],
   "source": [
    "def split_data(data, split_clmn, split_val):\n",
    "    \n",
    "    split_column_val=data[:,split_clmn]\n",
    "    \n",
    "    data_belw=data[split_column_val<=split_val]\n",
    "    data_above=data[split_column_val>split_val]\n",
    "\n",
    "    return data_belw, data_above"
   ]
  },
  {
   "cell_type": "code",
   "execution_count": 31,
   "metadata": {},
   "outputs": [],
   "source": [
    "# data_bleew, data_abeev= split_data(data_abeev, split_col, split_val)\n",
    "# print(data_bleew,\"****\",data_abeev)"
   ]
  },
  {
   "cell_type": "code",
   "execution_count": 32,
   "metadata": {},
   "outputs": [],
   "source": [
    "# plotting_df= pd.DataFrame(data, columns=df.columns)\n",
    "# sns.lmplot(data=plotting_df,x=\"petal_width\",y=\"petal_length\",fit_reg=False,size=6,aspect=1.5)\n",
    "# plt.vlines(x=split_val,ymin=1,ymax=7)\n",
    "# plt.xlim(0,2.6)"
   ]
  },
  {
   "cell_type": "markdown",
   "metadata": {},
   "source": [
    "### Lowest Overall Entropy?"
   ]
  },
  {
   "cell_type": "code",
   "execution_count": 33,
   "metadata": {},
   "outputs": [],
   "source": [
    "def cal_entropy(data):\n",
    "    lbl_col=data[:,-1]\n",
    "    _,counts=np.unique(lbl_col,return_counts=True)\n",
    "\n",
    "    pblty=counts/counts.sum()\n",
    "    entropy = sum(pblty*-np.log2(pblty))\n",
    "    return entropy"
   ]
  },
  {
   "cell_type": "code",
   "execution_count": 34,
   "metadata": {},
   "outputs": [],
   "source": [
    "# cal_entropy(data_blw)"
   ]
  },
  {
   "cell_type": "code",
   "execution_count": 35,
   "metadata": {},
   "outputs": [],
   "source": [
    "def cal_total_entropy(data_blw,data_abv):\n",
    "\n",
    "    total_len_datapoints=len(data_blw)+len(data_abv)\n",
    "    prob_data_blw=len(data_blw)/total_len_datapoints\n",
    "    prob_data_abv=len(data_abv)/total_len_datapoints\n",
    "    entrpy_data_blw=cal_entropy(data_blw)\n",
    "    entrpy_data_abv=cal_entropy(data_abv)\n",
    "    total_entropy=(prob_data_blw*entrpy_data_blw + prob_data_abv*entrpy_data_abv)\n",
    "    return total_entropy"
   ]
  },
  {
   "cell_type": "code",
   "execution_count": 36,
   "metadata": {},
   "outputs": [],
   "source": [
    "# cal_total_entropy(data_blw,data_abv)\n"
   ]
  },
  {
   "cell_type": "code",
   "execution_count": 37,
   "metadata": {},
   "outputs": [],
   "source": [
    "def find_best_split(data, pot_split):\n",
    "    \n",
    "    total_entropy=999\n",
    "    for clmn_indx in pot_split:\n",
    "        for val in pot_split[clmn_indx]:\n",
    "            data_blw,data_abv=split_data(data,split_clmn=clmn_indx,split_val=val)\n",
    "            entropy=cal_total_entropy(data_blw,data_abv)\n",
    "            \n",
    "            if(entropy<=total_entropy):\n",
    "                total_entropy=entropy\n",
    "                bst_splt_column=clmn_indx\n",
    "                bst_splt_value=val        \n",
    "    \n",
    "    \n",
    "    return bst_splt_column,bst_splt_value"
   ]
  },
  {
   "cell_type": "code",
   "execution_count": 38,
   "metadata": {},
   "outputs": [],
   "source": [
    "# find_best_split(data,get_appropriate_splt(data))"
   ]
  },
  {
   "cell_type": "markdown",
   "metadata": {},
   "source": [
    "### Decision Tree Algorithm "
   ]
  },
  {
   "cell_type": "code",
   "execution_count": 76,
   "metadata": {},
   "outputs": [],
   "source": [
    "def dTree_algorithm(data_frame,count=0,min_instaance_req=2,maximum_depth=5):\n",
    "    \n",
    "    #Preparing Data\n",
    "    if count==0:\n",
    "        global COL_HEADER\n",
    "        COL_HEADER=data_frame.columns\n",
    "        data=data_frame.values\n",
    "        \n",
    "    else:\n",
    "        data=data_frame\n",
    "        \n",
    "    #Stopping Condition\n",
    "    if (check_ifpure(data) or (len(data)<min_instaance_req) or (count == maximum_depth)):\n",
    "        class_of_data=claasify_data(data)\n",
    "        return class_of_data\n",
    "    \n",
    "    #Recurssion\n",
    "    else:\n",
    "        count+=1\n",
    "        #Getting potential split\n",
    "        possible_splt=get_appropriate_splt(data)\n",
    "#         print(possible_splt)\n",
    "        #Determining split column and value\n",
    "        splt_colmn,splt_val=find_best_split(data,possible_splt)\n",
    "#         print(splt_colmn,splt_val)\n",
    "        #Determine data above and below\n",
    "        data_blw,data_abv=split_data(data,splt_colmn,splt_val)\n",
    "#         print(data_blw,\"***\",data_abv)\n",
    "        attribute_name=COL_HEADER[splt_colmn]\n",
    "        condition_quest=\"{} <= {}\".format(attribute_name,splt_val)\n",
    "        sub_dTree={condition_quest:[]}\n",
    "        \n",
    "        \n",
    "        \n",
    "        yes_class=dTree_algorithm(data_blw,count,min_instaance_req,maximum_depth)\n",
    "        no_class=dTree_algorithm(data_abv,count,min_instaance_req,maximum_depth)\n",
    "        \n",
    "        if yes_class==no_class:\n",
    "            sub_dTree=yes_class\n",
    "            \n",
    "        else:\n",
    "            sub_dTree[condition_quest].append(yes_class)\n",
    "            sub_dTree[condition_quest].append(no_class)\n",
    "              \n",
    "    return sub_dTree"
   ]
  },
  {
   "cell_type": "code",
   "execution_count": 78,
   "metadata": {},
   "outputs": [
    {
     "name": "stdout",
     "output_type": "stream",
     "text": [
      "{'petal_width <= 0.8': ['Iris-setosa',\n",
      "                        {'petal_width <= 1.65': [{'petal_length <= 4.95': ['Iris-versicolor',\n",
      "                                                                           'Iris-virginica']},\n",
      "                                                 'Iris-virginica']}]}\n"
     ]
    }
   ],
   "source": [
    "tree=dTree_algorithm(train_df,min_instaance_req=1,maximum_depth=3)\n",
    "pprint(tree)"
   ]
  },
  {
   "cell_type": "markdown",
   "metadata": {},
   "source": [
    "## Classification \n",
    "       "
   ]
  },
  {
   "cell_type": "markdown",
   "metadata": {},
   "source": [
    "#### Classify one example"
   ]
  },
  {
   "cell_type": "code",
   "execution_count": null,
   "metadata": {},
   "outputs": [],
   "source": [
    "def predict_example(instance,dTree):\n",
    "    \n",
    "    return "
   ]
  },
  {
   "cell_type": "markdown",
   "metadata": {},
   "source": [
    "#### Classify many example"
   ]
  },
  {
   "cell_type": "code",
   "execution_count": 88,
   "metadata": {},
   "outputs": [
    {
     "data": {
      "text/plain": [
       "sepal_length                5.1\n",
       "sepal_width                 2.5\n",
       "petal_length                  3\n",
       "petal_width                 1.1\n",
       "label           Iris-versicolor\n",
       "Name: 98, dtype: object"
      ]
     },
     "execution_count": 88,
     "metadata": {},
     "output_type": "execute_result"
    }
   ],
   "source": [
    "instance =test_df.iloc[0]\n",
    "instance"
   ]
  },
  {
   "cell_type": "code",
   "execution_count": 89,
   "metadata": {},
   "outputs": [
    {
     "ename": "SyntaxError",
     "evalue": "invalid syntax (<ipython-input-89-fbc503163aa9>, line 6)",
     "output_type": "error",
     "traceback": [
      "\u001b[1;36m  File \u001b[1;32m\"<ipython-input-89-fbc503163aa9>\"\u001b[1;36m, line \u001b[1;32m6\u001b[0m\n\u001b[1;33m    if\u001b[0m\n\u001b[1;37m       ^\u001b[0m\n\u001b[1;31mSyntaxError\u001b[0m\u001b[1;31m:\u001b[0m invalid syntax\n"
     ]
    }
   ],
   "source": [
    "condition=list(tree.keys())[0]\n",
    "condition.split()\n",
    "attribute,operator,val=condition.split()\n",
    "\n",
    "#Check  condition\n",
    "if instance[attribute]<= float(val):\n",
    "    "
   ]
  },
  {
   "cell_type": "code",
   "execution_count": 87,
   "metadata": {},
   "outputs": [
    {
     "name": "stdout",
     "output_type": "stream",
     "text": [
      "petal_width <= 0.8\n"
     ]
    }
   ],
   "source": [
    "print(attribute,operator,value)"
   ]
  },
  {
   "cell_type": "code",
   "execution_count": null,
   "metadata": {},
   "outputs": [],
   "source": []
  }
 ],
 "metadata": {
  "kernelspec": {
   "display_name": "Python 3",
   "language": "python",
   "name": "python3"
  },
  "language_info": {
   "codemirror_mode": {
    "name": "ipython",
    "version": 3
   },
   "file_extension": ".py",
   "mimetype": "text/x-python",
   "name": "python",
   "nbconvert_exporter": "python",
   "pygments_lexer": "ipython3",
   "version": "3.7.1"
  }
 },
 "nbformat": 4,
 "nbformat_minor": 2
}
